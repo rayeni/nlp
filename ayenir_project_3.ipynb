{
 "cells": [
  {
   "cell_type": "markdown",
   "id": "b21a0904",
   "metadata": {},
   "source": [
    "# Project 3: Web APIs & NLP"
   ]
  },
  {
   "cell_type": "markdown",
   "id": "cfb5c150",
   "metadata": {},
   "source": [
    "## Problem Statement"
   ]
  },
  {
   "cell_type": "markdown",
   "id": "23d27ec6",
   "metadata": {},
   "source": [
    "Use the Pushshift API to collect text data (posts) from two subreddits. After collecting the data, use NLP to train a classifier read analyze a post and determine/classify from which subreddit it came."
   ]
  },
  {
   "cell_type": "markdown",
   "id": "fb28b263",
   "metadata": {},
   "source": [
    "### Imports"
   ]
  },
  {
   "cell_type": "code",
   "execution_count": 1,
   "id": "00af8835",
   "metadata": {
    "ExecuteTime": {
     "end_time": "2021-12-09T03:02:12.724808Z",
     "start_time": "2021-12-09T03:02:06.957250Z"
    }
   },
   "outputs": [],
   "source": [
    "import numpy as np\n",
    "import pandas as pd\n",
    "import matplotlib.pyplot as plt\n",
    "import seaborn as sns\n",
    "\n",
    "from sklearn.model_selection import train_test_split, GridSearchCV\n",
    "from sklearn.pipeline import Pipeline\n",
    "from sklearn.naive_bayes import MultinomialNB\n",
    "from sklearn.linear_model import LogisticRegression\n",
    "from sklearn.metrics import confusion_matrix, plot_confusion_matrix\n",
    "from sklearn.feature_extraction.text import CountVectorizer\n",
    "from sklearn.ensemble import RandomForestClassifier, AdaBoostClassifier\n",
    "from sklearn.tree import DecisionTreeClassifier #needed as default for AdaBoostClassifier\n",
    "from sklearn.svm import SVC\n",
    "\n",
    "import requests\n",
    "import time\n",
    "\n",
    "from nltk.tokenize import RegexpTokenizer\n",
    "from nltk.corpus import stopwords\n",
    "from nltk.stem import WordNetLemmatizer\n",
    "import re\n",
    "\n",
    "import warnings\n",
    "warnings.simplefilter(action='ignore', category=FutureWarning)"
   ]
  },
  {
   "cell_type": "markdown",
   "id": "4bb8a513",
   "metadata": {},
   "source": [
    "### Functions"
   ]
  },
  {
   "cell_type": "code",
   "execution_count": 2,
   "id": "0fb1bacf",
   "metadata": {
    "ExecuteTime": {
     "end_time": "2021-12-09T03:02:15.962142Z",
     "start_time": "2021-12-09T03:02:15.941279Z"
    }
   },
   "outputs": [],
   "source": [
    "def get_posts(sr, a_list, api_url):\n",
    "    \n",
    "    # get first batch 100\n",
    "    params1 = {\n",
    "        'subreddit': sr,\n",
    "        'size': 100\n",
    "    }\n",
    "    ## submit request\n",
    "    res1 = requests.get(api_url, params1)\n",
    "    \n",
    "    ## get request data in JSON format\n",
    "    posts1 = res1.json()['data']\n",
    "    \n",
    "    # convert JSON data to dataframe\n",
    "    df1 = pd.DataFrame(posts1)[['subreddit', 'title', 'selftext', 'created_utc']]\n",
    "    \n",
    "    # append dataframe to list\n",
    "    a_list.append(df1)\n",
    "    \n",
    "    # get timestamp of last entry in dataframe\n",
    "    # this is needed to make the next data request\n",
    "    etime = df1['created_utc'].iloc[-1]\n",
    "    \n",
    "    # get remaining batches of 100 each\n",
    "    # since we want approximately 5000 entries, \n",
    "    # we can use a for loop\n",
    "    for _i in range(0, 75):\n",
    "        params1 = {\n",
    "            'subreddit': sr,\n",
    "            'size': 100,\n",
    "            'before': etime\n",
    "        }\n",
    "\n",
    "        res1 = requests.get(api_url, params1)\n",
    "        posts1 = res1.json()['data']\n",
    "        df1 = pd.DataFrame(posts1)[['subreddit', 'title', 'selftext', 'created_utc']]\n",
    "        a_list.append(df1)\n",
    "        etime = df1['created_utc'].iloc[-1]\n",
    "        time.sleep(5)\n",
    "    \n",
    "    return a_list"
   ]
  },
  {
   "cell_type": "code",
   "execution_count": 3,
   "id": "473562cd",
   "metadata": {
    "ExecuteTime": {
     "end_time": "2021-12-09T03:02:17.021492Z",
     "start_time": "2021-12-09T03:02:17.013494Z"
    }
   },
   "outputs": [],
   "source": [
    "def rm_spchars(x):\n",
    "    \n",
    "    x = str(x)\n",
    "    \n",
    "    # Tokenize\n",
    "    # Instantiate RegExp Tokenizer\n",
    "    tokenizer = RegexpTokenizer(r'\\w+')\n",
    "    # Run Tokenizer. Tokenizer will return a list of strings.\n",
    "    selftext_tokens = tokenizer.tokenize(x.lower())\n",
    "    \n",
    "    # Lemmantize\n",
    "    # Instantiate Lemmantizer\n",
    "    lemmatizer = WordNetLemmatizer()\n",
    "    # Run Lemmantizer\n",
    "    selftext_tokens_lem = [lemmatizer.lemmatize(i) for i in selftext_tokens]\n",
    "    \n",
    "    # Add stopwords\n",
    "    stpwords = stopwords.words('english')\n",
    "    newStopWords = ['ha','wa', 'like', 'new', '000', '2021', 'relate']\n",
    "    stpwords.extend(newStopWords)\n",
    "    \n",
    "    # Remove stopwords from selftext_tokens\n",
    "    selftext_tokens_no_stpwds = [token for token in selftext_tokens_lem if token not in stpwords]\n",
    "    \n",
    "    # combine the strings in selftext_tokens_no_stpwds\n",
    "    x = ' '.join(selftext_tokens_no_stpwds)\n",
    "    \n",
    "    return x"
   ]
  },
  {
   "cell_type": "code",
   "execution_count": 4,
   "id": "a05009d7",
   "metadata": {
    "ExecuteTime": {
     "end_time": "2021-12-09T03:02:20.586459Z",
     "start_time": "2021-12-09T03:02:20.581371Z"
    }
   },
   "outputs": [],
   "source": [
    "def word_count(x):\n",
    "    word_list = x.split()\n",
    "    return len(word_list)"
   ]
  },
  {
   "cell_type": "code",
   "execution_count": 5,
   "id": "07252e47",
   "metadata": {
    "ExecuteTime": {
     "end_time": "2021-12-09T03:02:21.850498Z",
     "start_time": "2021-12-09T03:02:21.829794Z"
    }
   },
   "outputs": [],
   "source": [
    "# Confusion Matrix\n",
    "def get_confusion_matrix(reg_model, name, X_test, y_test):\n",
    "    \n",
    "    # Get test predictions\n",
    "    y_preds = reg_model.predict(X_test)\n",
    "    \n",
    "    # Plot confusion matrix\n",
    "    plot_confusion_matrix(reg_model, X_test, y_test, \n",
    "                          cmap='Blues', values_format='d', \n",
    "                          display_labels=['r/pennystocks', 'r/CryptoCurrency']);\n",
    "    \n",
    "    # Get Positives (T/F) and Negatives (T/F)\n",
    "    tn, fp, fn, tp = confusion_matrix(y_test, y_preds).ravel()\n",
    "    \n",
    "    print('\\033[1m' + 'True Negatives:' + '\\033[0m')\n",
    "    print('The', name, 'model has',  str(tn), 'true negatives.')\n",
    "    print()\n",
    "    print('\\033[1m' + 'False Positives:' + '\\033[0m')\n",
    "    print('The', name, 'model has',  str(fp), 'false positives.')\n",
    "    print()\n",
    "    print('\\033[1m' + 'False Negatives:' + '\\033[0m')\n",
    "    print('The', name, 'model has',  str(fn), 'false negatives.')\n",
    "    print()\n",
    "    print('\\033[1m' + 'True Positives:' + '\\033[0m')\n",
    "    print('The', name , 'model has',  str(tp), 'true positives.')\n",
    "    print()\n",
    "    print('\\033[1m' + 'Specificity:' + '\\033[0m')\n",
    "    print('Its specificity is', tn / (tn + fp))\n",
    "    print()\n",
    "    print('\\033[1m' + 'Sensitivity:' + '\\033[0m')\n",
    "    print('Its sensitivity is', tp / (tp + fn))"
   ]
  },
  {
   "cell_type": "markdown",
   "id": "9e84a6cd",
   "metadata": {},
   "source": [
    "### Variable"
   ]
  },
  {
   "cell_type": "code",
   "execution_count": 5,
   "id": "ea8989ab",
   "metadata": {},
   "outputs": [],
   "source": [
    "url = 'https://api.pushshift.io/reddit/search/submission'"
   ]
  },
  {
   "cell_type": "markdown",
   "id": "74bf649e",
   "metadata": {},
   "source": [
    "### Data Collection\n",
    "\n",
    "><div class=\"box\">\n",
    "<img src=\"./images/alert.gif\" align=\"left\" style=\"width: 16px; height: 16px\"> \n",
    "<span style=\"line-height:16px;\">&nbsp;The lines in this section have been greyed out, because the process to get the data is lengthy.  To avoid repeating the process, the data was saved to a csv file.</span>\n",
    "</div>"
   ]
  },
  {
   "cell_type": "markdown",
   "id": "ae471331",
   "metadata": {},
   "source": [
    "- **Call function to retrieve subreddit posts**"
   ]
  },
  {
   "cell_type": "code",
   "execution_count": 6,
   "id": "4bdf65ba",
   "metadata": {},
   "outputs": [],
   "source": [
    "# Get pennystocks subreddit posts\n",
    "dfs_list = get_posts('pennystocks', [], url)"
   ]
  },
  {
   "cell_type": "code",
   "execution_count": 7,
   "id": "6f258107",
   "metadata": {},
   "outputs": [],
   "source": [
    "# Get CryptoCurrency subreddit posts\n",
    "dfs_list = get_posts('CryptoCurrency', dfs_list, url)"
   ]
  },
  {
   "cell_type": "markdown",
   "id": "0fc782d2",
   "metadata": {},
   "source": [
    "- **Concatenate dataframes**\n",
    "\n",
    "> The function `get_posts` returned a final list of dataframes `dfs_lists`. We can use `pd.concat()` to stack the dataframes vertically (`axis=0`)."
   ]
  },
  {
   "cell_type": "code",
   "execution_count": 9,
   "id": "25ed33d9",
   "metadata": {},
   "outputs": [],
   "source": [
    "# concatenate the dataframes, vertically \n",
    "sr_posts = pd.concat(dfs_list, axis=0)"
   ]
  },
  {
   "cell_type": "code",
   "execution_count": 10,
   "id": "113b2364",
   "metadata": {},
   "outputs": [
    {
     "data": {
      "text/plain": [
       "(15199, 4)"
      ]
     },
     "execution_count": 10,
     "metadata": {},
     "output_type": "execute_result"
    }
   ],
   "source": [
    "sr_posts.shape"
   ]
  },
  {
   "cell_type": "markdown",
   "id": "831be3b0",
   "metadata": {},
   "source": [
    "- **Export data to CSV**"
   ]
  },
  {
   "cell_type": "code",
   "execution_count": 11,
   "id": "afcec25f",
   "metadata": {},
   "outputs": [],
   "source": [
    "sr_posts.to_csv('./data/sr_posts_dirty.csv')"
   ]
  },
  {
   "cell_type": "markdown",
   "id": "847a6a83",
   "metadata": {},
   "source": [
    "### Data Cleaning"
   ]
  },
  {
   "cell_type": "markdown",
   "id": "e73d7b9b",
   "metadata": {},
   "source": [
    "- **Load data**\n",
    "><div class=\"box\">\n",
    "<img src=\"./images/alert.gif\" align=\"left\" style=\"width: 16px; height: 16px\"> \n",
    "<span style=\"line-height:16px;\">&nbsp;Added after commenting out `Data Collection` section.</span>\n",
    "</div>"
   ]
  },
  {
   "cell_type": "code",
   "execution_count": 6,
   "id": "1d8a7f23",
   "metadata": {
    "ExecuteTime": {
     "end_time": "2021-12-09T03:02:39.413853Z",
     "start_time": "2021-12-09T03:02:39.194968Z"
    }
   },
   "outputs": [],
   "source": [
    "sr_posts = pd.read_csv('./data/sr_posts_dirty.csv')"
   ]
  },
  {
   "cell_type": "markdown",
   "id": "a981deba",
   "metadata": {},
   "source": [
    "- **Drop Unnamed: 0**\n",
    "><div class=\"box\">\n",
    "<img src=\"./images/alert.gif\" align=\"left\" style=\"width: 16px; height: 16px\"> \n",
    "<span style=\"line-height:16px;\">&nbsp;Added after commenting out `Data Collection` section.</span>\n",
    "</div>"
   ]
  },
  {
   "cell_type": "code",
   "execution_count": 7,
   "id": "007942ef",
   "metadata": {
    "ExecuteTime": {
     "end_time": "2021-12-09T03:02:41.990492Z",
     "start_time": "2021-12-09T03:02:41.959665Z"
    }
   },
   "outputs": [],
   "source": [
    "sr_posts.drop(columns=['Unnamed: 0'], inplace=True)"
   ]
  },
  {
   "cell_type": "markdown",
   "id": "566000f1",
   "metadata": {},
   "source": [
    "- **Visually inspect the data**\n",
    "> A quick visual inspection is needed get an idea of what is present (e.g., special characters, `NaNs`, etc)."
   ]
  },
  {
   "cell_type": "code",
   "execution_count": 8,
   "id": "d2b8b102",
   "metadata": {
    "ExecuteTime": {
     "end_time": "2021-12-09T03:02:45.146179Z",
     "start_time": "2021-12-09T03:02:45.115403Z"
    }
   },
   "outputs": [
    {
     "data": {
      "text/html": [
       "<div>\n",
       "<style scoped>\n",
       "    .dataframe tbody tr th:only-of-type {\n",
       "        vertical-align: middle;\n",
       "    }\n",
       "\n",
       "    .dataframe tbody tr th {\n",
       "        vertical-align: top;\n",
       "    }\n",
       "\n",
       "    .dataframe thead th {\n",
       "        text-align: right;\n",
       "    }\n",
       "</style>\n",
       "<table border=\"1\" class=\"dataframe\">\n",
       "  <thead>\n",
       "    <tr style=\"text-align: right;\">\n",
       "      <th></th>\n",
       "      <th>subreddit</th>\n",
       "      <th>title</th>\n",
       "      <th>selftext</th>\n",
       "      <th>created_utc</th>\n",
       "    </tr>\n",
       "  </thead>\n",
       "  <tbody>\n",
       "    <tr>\n",
       "      <th>0</th>\n",
       "      <td>pennystocks</td>\n",
       "      <td>$CRTD (Creatd) &amp;lt;-- This One Has A LOT of Po...</td>\n",
       "      <td>Doing some DD on $CRTD (Creatd), think this on...</td>\n",
       "      <td>1636133858</td>\n",
       "    </tr>\n",
       "    <tr>\n",
       "      <th>1</th>\n",
       "      <td>pennystocks</td>\n",
       "      <td>What is the optimal way to sell a penny stock?</td>\n",
       "      <td>Let’s say the daily volume of a penny stock is...</td>\n",
       "      <td>1636132558</td>\n",
       "    </tr>\n",
       "    <tr>\n",
       "      <th>2</th>\n",
       "      <td>pennystocks</td>\n",
       "      <td>I will add it to my truffle pasta, when shiba 🚀🚀🚀</td>\n",
       "      <td>NaN</td>\n",
       "      <td>1636131673</td>\n",
       "    </tr>\n",
       "    <tr>\n",
       "      <th>3</th>\n",
       "      <td>pennystocks</td>\n",
       "      <td>I’m all in on $DBG.V and here’s why…</td>\n",
       "      <td>Doubleview Gold Corp is a junior mining compan...</td>\n",
       "      <td>1636129589</td>\n",
       "    </tr>\n",
       "    <tr>\n",
       "      <th>4</th>\n",
       "      <td>pennystocks</td>\n",
       "      <td>I am all in on DBG.V and here’s why…</td>\n",
       "      <td>Doubleview Gold Corp is a junior mining compan...</td>\n",
       "      <td>1636129479</td>\n",
       "    </tr>\n",
       "    <tr>\n",
       "      <th>5</th>\n",
       "      <td>pennystocks</td>\n",
       "      <td>$CLIS Announces Plans of Cryptocurrency and Bl...</td>\n",
       "      <td>NaN</td>\n",
       "      <td>1636128605</td>\n",
       "    </tr>\n",
       "    <tr>\n",
       "      <th>6</th>\n",
       "      <td>pennystocks</td>\n",
       "      <td>Gourmet Provisions International Corp. (GMPR) ...</td>\n",
       "      <td>[removed]</td>\n",
       "      <td>1636128501</td>\n",
       "    </tr>\n",
       "    <tr>\n",
       "      <th>7</th>\n",
       "      <td>pennystocks</td>\n",
       "      <td>$BMRA - Holy naked shorts Batman! 3000x increa...</td>\n",
       "      <td>NaN</td>\n",
       "      <td>1636128420</td>\n",
       "    </tr>\n",
       "    <tr>\n",
       "      <th>8</th>\n",
       "      <td>pennystocks</td>\n",
       "      <td>$WSGF - app launch in November, ticker change ...</td>\n",
       "      <td>NaN</td>\n",
       "      <td>1636127584</td>\n",
       "    </tr>\n",
       "    <tr>\n",
       "      <th>9</th>\n",
       "      <td>pennystocks</td>\n",
       "      <td>$CLIS Exciting News! \"HeyPal(TM) Announces Pla...</td>\n",
       "      <td>NaN</td>\n",
       "      <td>1636127535</td>\n",
       "    </tr>\n",
       "  </tbody>\n",
       "</table>\n",
       "</div>"
      ],
      "text/plain": [
       "     subreddit                                              title  \\\n",
       "0  pennystocks  $CRTD (Creatd) &lt;-- This One Has A LOT of Po...   \n",
       "1  pennystocks     What is the optimal way to sell a penny stock?   \n",
       "2  pennystocks  I will add it to my truffle pasta, when shiba 🚀🚀🚀   \n",
       "3  pennystocks               I’m all in on $DBG.V and here’s why…   \n",
       "4  pennystocks               I am all in on DBG.V and here’s why…   \n",
       "5  pennystocks  $CLIS Announces Plans of Cryptocurrency and Bl...   \n",
       "6  pennystocks  Gourmet Provisions International Corp. (GMPR) ...   \n",
       "7  pennystocks  $BMRA - Holy naked shorts Batman! 3000x increa...   \n",
       "8  pennystocks  $WSGF - app launch in November, ticker change ...   \n",
       "9  pennystocks  $CLIS Exciting News! \"HeyPal(TM) Announces Pla...   \n",
       "\n",
       "                                            selftext  created_utc  \n",
       "0  Doing some DD on $CRTD (Creatd), think this on...   1636133858  \n",
       "1  Let’s say the daily volume of a penny stock is...   1636132558  \n",
       "2                                                NaN   1636131673  \n",
       "3  Doubleview Gold Corp is a junior mining compan...   1636129589  \n",
       "4  Doubleview Gold Corp is a junior mining compan...   1636129479  \n",
       "5                                                NaN   1636128605  \n",
       "6                                          [removed]   1636128501  \n",
       "7                                                NaN   1636128420  \n",
       "8                                                NaN   1636127584  \n",
       "9                                                NaN   1636127535  "
      ]
     },
     "execution_count": 8,
     "metadata": {},
     "output_type": "execute_result"
    }
   ],
   "source": [
    "sr_posts.head(10)"
   ]
  },
  {
   "cell_type": "code",
   "execution_count": 9,
   "id": "82080991",
   "metadata": {
    "ExecuteTime": {
     "end_time": "2021-12-09T03:02:46.678022Z",
     "start_time": "2021-12-09T03:02:46.664021Z"
    }
   },
   "outputs": [
    {
     "data": {
      "text/html": [
       "<div>\n",
       "<style scoped>\n",
       "    .dataframe tbody tr th:only-of-type {\n",
       "        vertical-align: middle;\n",
       "    }\n",
       "\n",
       "    .dataframe tbody tr th {\n",
       "        vertical-align: top;\n",
       "    }\n",
       "\n",
       "    .dataframe thead th {\n",
       "        text-align: right;\n",
       "    }\n",
       "</style>\n",
       "<table border=\"1\" class=\"dataframe\">\n",
       "  <thead>\n",
       "    <tr style=\"text-align: right;\">\n",
       "      <th></th>\n",
       "      <th>subreddit</th>\n",
       "      <th>title</th>\n",
       "      <th>selftext</th>\n",
       "      <th>created_utc</th>\n",
       "    </tr>\n",
       "  </thead>\n",
       "  <tbody>\n",
       "    <tr>\n",
       "      <th>15189</th>\n",
       "      <td>CryptoCurrency</td>\n",
       "      <td>Tell me your favorite one liner related to cry...</td>\n",
       "      <td>As experienced crypto investors you all are yo...</td>\n",
       "      <td>1635890888</td>\n",
       "    </tr>\n",
       "    <tr>\n",
       "      <th>15190</th>\n",
       "      <td>CryptoCurrency</td>\n",
       "      <td>NYC is now advertising meme coins…</td>\n",
       "      <td>NaN</td>\n",
       "      <td>1635890855</td>\n",
       "    </tr>\n",
       "    <tr>\n",
       "      <th>15191</th>\n",
       "      <td>CryptoCurrency</td>\n",
       "      <td>Checkout.com CEO says crypto ‘stablecoins’ cou...</td>\n",
       "      <td>NaN</td>\n",
       "      <td>1635890855</td>\n",
       "    </tr>\n",
       "    <tr>\n",
       "      <th>15192</th>\n",
       "      <td>CryptoCurrency</td>\n",
       "      <td>Ethiopia declares nationwide emergency as rebe...</td>\n",
       "      <td>NaN</td>\n",
       "      <td>1635890846</td>\n",
       "    </tr>\n",
       "    <tr>\n",
       "      <th>15193</th>\n",
       "      <td>CryptoCurrency</td>\n",
       "      <td>Australia's Largest Bank To Integrate Bitcoin ...</td>\n",
       "      <td>NaN</td>\n",
       "      <td>1635890837</td>\n",
       "    </tr>\n",
       "    <tr>\n",
       "      <th>15194</th>\n",
       "      <td>CryptoCurrency</td>\n",
       "      <td>Shill me your favorite one liner related to cr...</td>\n",
       "      <td>[removed]</td>\n",
       "      <td>1635890814</td>\n",
       "    </tr>\n",
       "    <tr>\n",
       "      <th>15195</th>\n",
       "      <td>CryptoCurrency</td>\n",
       "      <td>Can you relate?</td>\n",
       "      <td>[removed]</td>\n",
       "      <td>1635890793</td>\n",
       "    </tr>\n",
       "    <tr>\n",
       "      <th>15196</th>\n",
       "      <td>CryptoCurrency</td>\n",
       "      <td>$GARI Token</td>\n",
       "      <td>[removed]</td>\n",
       "      <td>1635890748</td>\n",
       "    </tr>\n",
       "    <tr>\n",
       "      <th>15197</th>\n",
       "      <td>CryptoCurrency</td>\n",
       "      <td>10 Billion Hex Stakes Ending in 30 Days</td>\n",
       "      <td>NaN</td>\n",
       "      <td>1635890721</td>\n",
       "    </tr>\n",
       "    <tr>\n",
       "      <th>15198</th>\n",
       "      <td>CryptoCurrency</td>\n",
       "      <td>DogeBonk creators put up billboard in NYC. The...</td>\n",
       "      <td>NaN</td>\n",
       "      <td>1635890704</td>\n",
       "    </tr>\n",
       "  </tbody>\n",
       "</table>\n",
       "</div>"
      ],
      "text/plain": [
       "            subreddit                                              title  \\\n",
       "15189  CryptoCurrency  Tell me your favorite one liner related to cry...   \n",
       "15190  CryptoCurrency                 NYC is now advertising meme coins…   \n",
       "15191  CryptoCurrency  Checkout.com CEO says crypto ‘stablecoins’ cou...   \n",
       "15192  CryptoCurrency  Ethiopia declares nationwide emergency as rebe...   \n",
       "15193  CryptoCurrency  Australia's Largest Bank To Integrate Bitcoin ...   \n",
       "15194  CryptoCurrency  Shill me your favorite one liner related to cr...   \n",
       "15195  CryptoCurrency                                    Can you relate?   \n",
       "15196  CryptoCurrency                                        $GARI Token   \n",
       "15197  CryptoCurrency            10 Billion Hex Stakes Ending in 30 Days   \n",
       "15198  CryptoCurrency  DogeBonk creators put up billboard in NYC. The...   \n",
       "\n",
       "                                                selftext  created_utc  \n",
       "15189  As experienced crypto investors you all are yo...   1635890888  \n",
       "15190                                                NaN   1635890855  \n",
       "15191                                                NaN   1635890855  \n",
       "15192                                                NaN   1635890846  \n",
       "15193                                                NaN   1635890837  \n",
       "15194                                          [removed]   1635890814  \n",
       "15195                                          [removed]   1635890793  \n",
       "15196                                          [removed]   1635890748  \n",
       "15197                                                NaN   1635890721  \n",
       "15198                                                NaN   1635890704  "
      ]
     },
     "execution_count": 9,
     "metadata": {},
     "output_type": "execute_result"
    }
   ],
   "source": [
    "sr_posts.tail(10)"
   ]
  },
  {
   "cell_type": "markdown",
   "id": "8287d1ec",
   "metadata": {},
   "source": [
    "- **Check for null values**"
   ]
  },
  {
   "cell_type": "code",
   "execution_count": 10,
   "id": "6d3c1ca3",
   "metadata": {
    "ExecuteTime": {
     "end_time": "2021-12-09T03:02:49.336401Z",
     "start_time": "2021-12-09T03:02:49.317697Z"
    }
   },
   "outputs": [
    {
     "data": {
      "text/plain": [
       "subreddit         0\n",
       "title             0\n",
       "selftext       4736\n",
       "created_utc       0\n",
       "dtype: int64"
      ]
     },
     "execution_count": 10,
     "metadata": {},
     "output_type": "execute_result"
    }
   ],
   "source": [
    "sr_posts.isnull().sum()"
   ]
  },
  {
   "cell_type": "code",
   "execution_count": 11,
   "id": "e5190c15",
   "metadata": {
    "ExecuteTime": {
     "end_time": "2021-12-09T03:02:50.382186Z",
     "start_time": "2021-12-09T03:02:50.342634Z"
    }
   },
   "outputs": [
    {
     "data": {
      "text/html": [
       "<div>\n",
       "<style scoped>\n",
       "    .dataframe tbody tr th:only-of-type {\n",
       "        vertical-align: middle;\n",
       "    }\n",
       "\n",
       "    .dataframe tbody tr th {\n",
       "        vertical-align: top;\n",
       "    }\n",
       "\n",
       "    .dataframe thead th {\n",
       "        text-align: right;\n",
       "    }\n",
       "</style>\n",
       "<table border=\"1\" class=\"dataframe\">\n",
       "  <thead>\n",
       "    <tr style=\"text-align: right;\">\n",
       "      <th></th>\n",
       "      <th>subreddit</th>\n",
       "      <th>title</th>\n",
       "      <th>selftext</th>\n",
       "      <th>created_utc</th>\n",
       "    </tr>\n",
       "  </thead>\n",
       "  <tbody>\n",
       "    <tr>\n",
       "      <th>2</th>\n",
       "      <td>pennystocks</td>\n",
       "      <td>I will add it to my truffle pasta, when shiba 🚀🚀🚀</td>\n",
       "      <td>NaN</td>\n",
       "      <td>1636131673</td>\n",
       "    </tr>\n",
       "    <tr>\n",
       "      <th>5</th>\n",
       "      <td>pennystocks</td>\n",
       "      <td>$CLIS Announces Plans of Cryptocurrency and Bl...</td>\n",
       "      <td>NaN</td>\n",
       "      <td>1636128605</td>\n",
       "    </tr>\n",
       "    <tr>\n",
       "      <th>7</th>\n",
       "      <td>pennystocks</td>\n",
       "      <td>$BMRA - Holy naked shorts Batman! 3000x increa...</td>\n",
       "      <td>NaN</td>\n",
       "      <td>1636128420</td>\n",
       "    </tr>\n",
       "    <tr>\n",
       "      <th>8</th>\n",
       "      <td>pennystocks</td>\n",
       "      <td>$WSGF - app launch in November, ticker change ...</td>\n",
       "      <td>NaN</td>\n",
       "      <td>1636127584</td>\n",
       "    </tr>\n",
       "    <tr>\n",
       "      <th>9</th>\n",
       "      <td>pennystocks</td>\n",
       "      <td>$CLIS Exciting News! \"HeyPal(TM) Announces Pla...</td>\n",
       "      <td>NaN</td>\n",
       "      <td>1636127535</td>\n",
       "    </tr>\n",
       "    <tr>\n",
       "      <th>...</th>\n",
       "      <td>...</td>\n",
       "      <td>...</td>\n",
       "      <td>...</td>\n",
       "      <td>...</td>\n",
       "    </tr>\n",
       "    <tr>\n",
       "      <th>15191</th>\n",
       "      <td>CryptoCurrency</td>\n",
       "      <td>Checkout.com CEO says crypto ‘stablecoins’ cou...</td>\n",
       "      <td>NaN</td>\n",
       "      <td>1635890855</td>\n",
       "    </tr>\n",
       "    <tr>\n",
       "      <th>15192</th>\n",
       "      <td>CryptoCurrency</td>\n",
       "      <td>Ethiopia declares nationwide emergency as rebe...</td>\n",
       "      <td>NaN</td>\n",
       "      <td>1635890846</td>\n",
       "    </tr>\n",
       "    <tr>\n",
       "      <th>15193</th>\n",
       "      <td>CryptoCurrency</td>\n",
       "      <td>Australia's Largest Bank To Integrate Bitcoin ...</td>\n",
       "      <td>NaN</td>\n",
       "      <td>1635890837</td>\n",
       "    </tr>\n",
       "    <tr>\n",
       "      <th>15197</th>\n",
       "      <td>CryptoCurrency</td>\n",
       "      <td>10 Billion Hex Stakes Ending in 30 Days</td>\n",
       "      <td>NaN</td>\n",
       "      <td>1635890721</td>\n",
       "    </tr>\n",
       "    <tr>\n",
       "      <th>15198</th>\n",
       "      <td>CryptoCurrency</td>\n",
       "      <td>DogeBonk creators put up billboard in NYC. The...</td>\n",
       "      <td>NaN</td>\n",
       "      <td>1635890704</td>\n",
       "    </tr>\n",
       "  </tbody>\n",
       "</table>\n",
       "<p>4736 rows × 4 columns</p>\n",
       "</div>"
      ],
      "text/plain": [
       "            subreddit                                              title  \\\n",
       "2         pennystocks  I will add it to my truffle pasta, when shiba 🚀🚀🚀   \n",
       "5         pennystocks  $CLIS Announces Plans of Cryptocurrency and Bl...   \n",
       "7         pennystocks  $BMRA - Holy naked shorts Batman! 3000x increa...   \n",
       "8         pennystocks  $WSGF - app launch in November, ticker change ...   \n",
       "9         pennystocks  $CLIS Exciting News! \"HeyPal(TM) Announces Pla...   \n",
       "...               ...                                                ...   \n",
       "15191  CryptoCurrency  Checkout.com CEO says crypto ‘stablecoins’ cou...   \n",
       "15192  CryptoCurrency  Ethiopia declares nationwide emergency as rebe...   \n",
       "15193  CryptoCurrency  Australia's Largest Bank To Integrate Bitcoin ...   \n",
       "15197  CryptoCurrency            10 Billion Hex Stakes Ending in 30 Days   \n",
       "15198  CryptoCurrency  DogeBonk creators put up billboard in NYC. The...   \n",
       "\n",
       "      selftext  created_utc  \n",
       "2          NaN   1636131673  \n",
       "5          NaN   1636128605  \n",
       "7          NaN   1636128420  \n",
       "8          NaN   1636127584  \n",
       "9          NaN   1636127535  \n",
       "...        ...          ...  \n",
       "15191      NaN   1635890855  \n",
       "15192      NaN   1635890846  \n",
       "15193      NaN   1635890837  \n",
       "15197      NaN   1635890721  \n",
       "15198      NaN   1635890704  \n",
       "\n",
       "[4736 rows x 4 columns]"
      ]
     },
     "execution_count": 11,
     "metadata": {},
     "output_type": "execute_result"
    }
   ],
   "source": [
    "sr_posts[sr_posts.isnull().any(axis=1)]"
   ]
  },
  {
   "cell_type": "markdown",
   "id": "3d4ae99c",
   "metadata": {},
   "source": [
    "<span style=\"background-color:#ffff00;\">**Notes:**</span>\n",
    "> 1. Remove special characters from both `title` and `selftext` columns.\n",
    ">\n",
    "> 2. Instead of deleting rows where `selftext` is either `Nan`, `[removed]`, `[deleted]`, or `''`, lets fill those values with the title.  \n"
   ]
  },
  {
   "cell_type": "markdown",
   "id": "4f3942b0",
   "metadata": {},
   "source": [
    "- **Replace** `NaN` **with post's** `title`."
   ]
  },
  {
   "cell_type": "code",
   "execution_count": 12,
   "id": "9012e760",
   "metadata": {
    "ExecuteTime": {
     "end_time": "2021-12-09T03:02:54.619511Z",
     "start_time": "2021-12-09T03:02:54.599803Z"
    }
   },
   "outputs": [],
   "source": [
    "sr_posts['selftext'].fillna(sr_posts['title'], inplace=True)"
   ]
  },
  {
   "cell_type": "code",
   "execution_count": 13,
   "id": "01d2a816",
   "metadata": {
    "ExecuteTime": {
     "end_time": "2021-12-09T03:02:55.474577Z",
     "start_time": "2021-12-09T03:02:55.462575Z"
    }
   },
   "outputs": [
    {
     "data": {
      "text/plain": [
       "subreddit      0\n",
       "title          0\n",
       "selftext       0\n",
       "created_utc    0\n",
       "dtype: int64"
      ]
     },
     "execution_count": 13,
     "metadata": {},
     "output_type": "execute_result"
    }
   ],
   "source": [
    "sr_posts.isnull().sum()"
   ]
  },
  {
   "cell_type": "markdown",
   "id": "d37c6da8",
   "metadata": {},
   "source": [
    "- **Remove links and line breaks from** the `selftext` **and** `title` **columns.**"
   ]
  },
  {
   "cell_type": "code",
   "execution_count": 14,
   "id": "27a6a143",
   "metadata": {
    "ExecuteTime": {
     "end_time": "2021-12-09T03:02:58.884271Z",
     "start_time": "2021-12-09T03:02:58.358553Z"
    }
   },
   "outputs": [],
   "source": [
    "for idx in ['selftext', 'title']:\n",
    "    sr_posts[idx] = sr_posts[idx].replace(\n",
    "        'http\\S+', '', regex=True\n",
    "    ).replace(\n",
    "        'www\\S+', '', regex=True\n",
    "    ).replace(\n",
    "        '\\n\\n\\S+', '', regex=True\n",
    "    ).replace(\n",
    "        '\\n|S+', '', regex = True\n",
    "    )"
   ]
  },
  {
   "cell_type": "markdown",
   "id": "58d7ccfe",
   "metadata": {},
   "source": [
    "- **Remove special characters from** the `selftext` **and** `title` **columns.**"
   ]
  },
  {
   "cell_type": "code",
   "execution_count": 15,
   "id": "7e344d04",
   "metadata": {
    "ExecuteTime": {
     "end_time": "2021-12-09T03:03:24.927921Z",
     "start_time": "2021-12-09T03:03:01.974180Z"
    }
   },
   "outputs": [],
   "source": [
    "for idx in ['selftext', 'title']:\n",
    "    sr_posts[idx] = sr_posts[idx].apply(rm_spchars)"
   ]
  },
  {
   "cell_type": "code",
   "execution_count": 16,
   "id": "ce283523",
   "metadata": {
    "ExecuteTime": {
     "end_time": "2021-12-09T03:03:24.943623Z",
     "start_time": "2021-12-09T03:03:24.927921Z"
    }
   },
   "outputs": [
    {
     "data": {
      "text/plain": [
       "(15199, 4)"
      ]
     },
     "execution_count": 16,
     "metadata": {},
     "output_type": "execute_result"
    }
   ],
   "source": [
    "sr_posts.shape"
   ]
  },
  {
   "cell_type": "code",
   "execution_count": 17,
   "id": "64f6399a",
   "metadata": {
    "ExecuteTime": {
     "end_time": "2021-12-09T03:03:24.968401Z",
     "start_time": "2021-12-09T03:03:24.946622Z"
    }
   },
   "outputs": [
    {
     "data": {
      "text/html": [
       "<div>\n",
       "<style scoped>\n",
       "    .dataframe tbody tr th:only-of-type {\n",
       "        vertical-align: middle;\n",
       "    }\n",
       "\n",
       "    .dataframe tbody tr th {\n",
       "        vertical-align: top;\n",
       "    }\n",
       "\n",
       "    .dataframe thead th {\n",
       "        text-align: right;\n",
       "    }\n",
       "</style>\n",
       "<table border=\"1\" class=\"dataframe\">\n",
       "  <thead>\n",
       "    <tr style=\"text-align: right;\">\n",
       "      <th></th>\n",
       "      <th>subreddit</th>\n",
       "      <th>title</th>\n",
       "      <th>selftext</th>\n",
       "      <th>created_utc</th>\n",
       "    </tr>\n",
       "  </thead>\n",
       "  <tbody>\n",
       "    <tr>\n",
       "      <th>0</th>\n",
       "      <td>pennystocks</td>\n",
       "      <td>crtd creatd lt one lot potential hort term man...</td>\n",
       "      <td>dd crtd creatd think one lot potential short t...</td>\n",
       "      <td>1636133858</td>\n",
       "    </tr>\n",
       "    <tr>\n",
       "      <th>1</th>\n",
       "      <td>pennystocks</td>\n",
       "      <td>optimal way sell penny stock</td>\n",
       "      <td>let say daily volume penny stock 250 million h...</td>\n",
       "      <td>1636132558</td>\n",
       "    </tr>\n",
       "    <tr>\n",
       "      <th>2</th>\n",
       "      <td>pennystocks</td>\n",
       "      <td>add truffle pasta shiba</td>\n",
       "      <td>add truffle pasta shiba</td>\n",
       "      <td>1636131673</td>\n",
       "    </tr>\n",
       "    <tr>\n",
       "      <th>3</th>\n",
       "      <td>pennystocks</td>\n",
       "      <td>dbg v</td>\n",
       "      <td>doubleview gold corp junior mining company cur...</td>\n",
       "      <td>1636129589</td>\n",
       "    </tr>\n",
       "    <tr>\n",
       "      <th>4</th>\n",
       "      <td>pennystocks</td>\n",
       "      <td>dbg v</td>\n",
       "      <td>doubleview gold corp junior mining company cur...</td>\n",
       "      <td>1636129479</td>\n",
       "    </tr>\n",
       "    <tr>\n",
       "      <th>5</th>\n",
       "      <td>pennystocks</td>\n",
       "      <td>cli announces plan cryptocurrency blockchain i...</td>\n",
       "      <td>cli announces plan cryptocurrency blockchain i...</td>\n",
       "      <td>1636128605</td>\n",
       "    </tr>\n",
       "    <tr>\n",
       "      <th>6</th>\n",
       "      <td>pennystocks</td>\n",
       "      <td>gourmet provision international corp gmpr anno...</td>\n",
       "      <td>removed</td>\n",
       "      <td>1636128501</td>\n",
       "    </tr>\n",
       "    <tr>\n",
       "      <th>7</th>\n",
       "      <td>pennystocks</td>\n",
       "      <td>bmra holy naked short batman 3000x increase vo...</td>\n",
       "      <td>bmra holy naked short batman 3000x increase vo...</td>\n",
       "      <td>1636128420</td>\n",
       "    </tr>\n",
       "    <tr>\n",
       "      <th>8</th>\n",
       "      <td>pennystocks</td>\n",
       "      <td>wgf app launch november ticker change coming s...</td>\n",
       "      <td>wgf app launch november ticker change coming s...</td>\n",
       "      <td>1636127584</td>\n",
       "    </tr>\n",
       "    <tr>\n",
       "      <th>9</th>\n",
       "      <td>pennystocks</td>\n",
       "      <td>cli exciting news heypal tm announces plan cry...</td>\n",
       "      <td>cli exciting news heypal tm announces plan cry...</td>\n",
       "      <td>1636127535</td>\n",
       "    </tr>\n",
       "  </tbody>\n",
       "</table>\n",
       "</div>"
      ],
      "text/plain": [
       "     subreddit                                              title  \\\n",
       "0  pennystocks  crtd creatd lt one lot potential hort term man...   \n",
       "1  pennystocks                       optimal way sell penny stock   \n",
       "2  pennystocks                            add truffle pasta shiba   \n",
       "3  pennystocks                                              dbg v   \n",
       "4  pennystocks                                              dbg v   \n",
       "5  pennystocks  cli announces plan cryptocurrency blockchain i...   \n",
       "6  pennystocks  gourmet provision international corp gmpr anno...   \n",
       "7  pennystocks  bmra holy naked short batman 3000x increase vo...   \n",
       "8  pennystocks  wgf app launch november ticker change coming s...   \n",
       "9  pennystocks  cli exciting news heypal tm announces plan cry...   \n",
       "\n",
       "                                            selftext  created_utc  \n",
       "0  dd crtd creatd think one lot potential short t...   1636133858  \n",
       "1  let say daily volume penny stock 250 million h...   1636132558  \n",
       "2                            add truffle pasta shiba   1636131673  \n",
       "3  doubleview gold corp junior mining company cur...   1636129589  \n",
       "4  doubleview gold corp junior mining company cur...   1636129479  \n",
       "5  cli announces plan cryptocurrency blockchain i...   1636128605  \n",
       "6                                            removed   1636128501  \n",
       "7  bmra holy naked short batman 3000x increase vo...   1636128420  \n",
       "8  wgf app launch november ticker change coming s...   1636127584  \n",
       "9  cli exciting news heypal tm announces plan cry...   1636127535  "
      ]
     },
     "execution_count": 17,
     "metadata": {},
     "output_type": "execute_result"
    }
   ],
   "source": [
    "sr_posts.head(10)"
   ]
  },
  {
   "cell_type": "markdown",
   "id": "0d08ce69",
   "metadata": {},
   "source": [
    "- **Replace** `removed`, `deleted`, **and** `''` **in** `selftext` **column with with post's** `title`."
   ]
  },
  {
   "cell_type": "code",
   "execution_count": 52,
   "id": "e4ad5a5b",
   "metadata": {
    "ExecuteTime": {
     "end_time": "2021-12-09T03:44:43.037012Z",
     "start_time": "2021-12-09T03:44:43.030013Z"
    }
   },
   "outputs": [],
   "source": [
    "for word in ['removed', 'deleted', '']:\n",
    "    sr_posts['selftext'] = np.where(sr_posts['selftext'] == word, sr_posts['title'], sr_posts['selftext'])"
   ]
  },
  {
   "cell_type": "code",
   "execution_count": 19,
   "id": "9e0530b9",
   "metadata": {
    "ExecuteTime": {
     "end_time": "2021-12-09T03:04:28.880380Z",
     "start_time": "2021-12-09T03:04:28.857382Z"
    }
   },
   "outputs": [
    {
     "data": {
      "text/html": [
       "<div>\n",
       "<style scoped>\n",
       "    .dataframe tbody tr th:only-of-type {\n",
       "        vertical-align: middle;\n",
       "    }\n",
       "\n",
       "    .dataframe tbody tr th {\n",
       "        vertical-align: top;\n",
       "    }\n",
       "\n",
       "    .dataframe thead th {\n",
       "        text-align: right;\n",
       "    }\n",
       "</style>\n",
       "<table border=\"1\" class=\"dataframe\">\n",
       "  <thead>\n",
       "    <tr style=\"text-align: right;\">\n",
       "      <th></th>\n",
       "      <th>subreddit</th>\n",
       "      <th>title</th>\n",
       "      <th>selftext</th>\n",
       "      <th>created_utc</th>\n",
       "    </tr>\n",
       "  </thead>\n",
       "  <tbody>\n",
       "    <tr>\n",
       "      <th>0</th>\n",
       "      <td>pennystocks</td>\n",
       "      <td>crtd creatd lt one lot potential hort term man...</td>\n",
       "      <td>dd crtd creatd think one lot potential short t...</td>\n",
       "      <td>1636133858</td>\n",
       "    </tr>\n",
       "    <tr>\n",
       "      <th>1</th>\n",
       "      <td>pennystocks</td>\n",
       "      <td>optimal way sell penny stock</td>\n",
       "      <td>let say daily volume penny stock 250 million h...</td>\n",
       "      <td>1636132558</td>\n",
       "    </tr>\n",
       "    <tr>\n",
       "      <th>2</th>\n",
       "      <td>pennystocks</td>\n",
       "      <td>add truffle pasta shiba</td>\n",
       "      <td>add truffle pasta shiba</td>\n",
       "      <td>1636131673</td>\n",
       "    </tr>\n",
       "    <tr>\n",
       "      <th>3</th>\n",
       "      <td>pennystocks</td>\n",
       "      <td>dbg v</td>\n",
       "      <td>doubleview gold corp junior mining company cur...</td>\n",
       "      <td>1636129589</td>\n",
       "    </tr>\n",
       "    <tr>\n",
       "      <th>4</th>\n",
       "      <td>pennystocks</td>\n",
       "      <td>dbg v</td>\n",
       "      <td>doubleview gold corp junior mining company cur...</td>\n",
       "      <td>1636129479</td>\n",
       "    </tr>\n",
       "    <tr>\n",
       "      <th>5</th>\n",
       "      <td>pennystocks</td>\n",
       "      <td>cli announces plan cryptocurrency blockchain i...</td>\n",
       "      <td>cli announces plan cryptocurrency blockchain i...</td>\n",
       "      <td>1636128605</td>\n",
       "    </tr>\n",
       "    <tr>\n",
       "      <th>6</th>\n",
       "      <td>pennystocks</td>\n",
       "      <td>gourmet provision international corp gmpr anno...</td>\n",
       "      <td>gourmet provision international corp gmpr anno...</td>\n",
       "      <td>1636128501</td>\n",
       "    </tr>\n",
       "    <tr>\n",
       "      <th>7</th>\n",
       "      <td>pennystocks</td>\n",
       "      <td>bmra holy naked short batman 3000x increase vo...</td>\n",
       "      <td>bmra holy naked short batman 3000x increase vo...</td>\n",
       "      <td>1636128420</td>\n",
       "    </tr>\n",
       "    <tr>\n",
       "      <th>8</th>\n",
       "      <td>pennystocks</td>\n",
       "      <td>wgf app launch november ticker change coming s...</td>\n",
       "      <td>wgf app launch november ticker change coming s...</td>\n",
       "      <td>1636127584</td>\n",
       "    </tr>\n",
       "    <tr>\n",
       "      <th>9</th>\n",
       "      <td>pennystocks</td>\n",
       "      <td>cli exciting news heypal tm announces plan cry...</td>\n",
       "      <td>cli exciting news heypal tm announces plan cry...</td>\n",
       "      <td>1636127535</td>\n",
       "    </tr>\n",
       "  </tbody>\n",
       "</table>\n",
       "</div>"
      ],
      "text/plain": [
       "     subreddit                                              title  \\\n",
       "0  pennystocks  crtd creatd lt one lot potential hort term man...   \n",
       "1  pennystocks                       optimal way sell penny stock   \n",
       "2  pennystocks                            add truffle pasta shiba   \n",
       "3  pennystocks                                              dbg v   \n",
       "4  pennystocks                                              dbg v   \n",
       "5  pennystocks  cli announces plan cryptocurrency blockchain i...   \n",
       "6  pennystocks  gourmet provision international corp gmpr anno...   \n",
       "7  pennystocks  bmra holy naked short batman 3000x increase vo...   \n",
       "8  pennystocks  wgf app launch november ticker change coming s...   \n",
       "9  pennystocks  cli exciting news heypal tm announces plan cry...   \n",
       "\n",
       "                                            selftext  created_utc  \n",
       "0  dd crtd creatd think one lot potential short t...   1636133858  \n",
       "1  let say daily volume penny stock 250 million h...   1636132558  \n",
       "2                            add truffle pasta shiba   1636131673  \n",
       "3  doubleview gold corp junior mining company cur...   1636129589  \n",
       "4  doubleview gold corp junior mining company cur...   1636129479  \n",
       "5  cli announces plan cryptocurrency blockchain i...   1636128605  \n",
       "6  gourmet provision international corp gmpr anno...   1636128501  \n",
       "7  bmra holy naked short batman 3000x increase vo...   1636128420  \n",
       "8  wgf app launch november ticker change coming s...   1636127584  \n",
       "9  cli exciting news heypal tm announces plan cry...   1636127535  "
      ]
     },
     "execution_count": 19,
     "metadata": {},
     "output_type": "execute_result"
    }
   ],
   "source": [
    "sr_posts.head(10)"
   ]
  },
  {
   "cell_type": "code",
   "execution_count": 20,
   "id": "f4dfa028",
   "metadata": {
    "ExecuteTime": {
     "end_time": "2021-12-09T03:04:32.350416Z",
     "start_time": "2021-12-09T03:04:32.330681Z"
    }
   },
   "outputs": [
    {
     "data": {
      "text/html": [
       "<div>\n",
       "<style scoped>\n",
       "    .dataframe tbody tr th:only-of-type {\n",
       "        vertical-align: middle;\n",
       "    }\n",
       "\n",
       "    .dataframe tbody tr th {\n",
       "        vertical-align: top;\n",
       "    }\n",
       "\n",
       "    .dataframe thead th {\n",
       "        text-align: right;\n",
       "    }\n",
       "</style>\n",
       "<table border=\"1\" class=\"dataframe\">\n",
       "  <thead>\n",
       "    <tr style=\"text-align: right;\">\n",
       "      <th></th>\n",
       "      <th>subreddit</th>\n",
       "      <th>title</th>\n",
       "      <th>selftext</th>\n",
       "      <th>created_utc</th>\n",
       "    </tr>\n",
       "  </thead>\n",
       "  <tbody>\n",
       "    <tr>\n",
       "      <th>15189</th>\n",
       "      <td>CryptoCurrency</td>\n",
       "      <td>tell favorite one liner related crypto</td>\n",
       "      <td>experienced crypto investor spent countless ho...</td>\n",
       "      <td>1635890888</td>\n",
       "    </tr>\n",
       "    <tr>\n",
       "      <th>15190</th>\n",
       "      <td>CryptoCurrency</td>\n",
       "      <td>nyc advertising meme coin</td>\n",
       "      <td>nyc advertising meme coin</td>\n",
       "      <td>1635890855</td>\n",
       "    </tr>\n",
       "    <tr>\n",
       "      <th>15191</th>\n",
       "      <td>CryptoCurrency</td>\n",
       "      <td>checkout com ceo say crypto stablecoins could ...</td>\n",
       "      <td>checkout com ceo say crypto stablecoins could ...</td>\n",
       "      <td>1635890855</td>\n",
       "    </tr>\n",
       "    <tr>\n",
       "      <th>15192</th>\n",
       "      <td>CryptoCurrency</td>\n",
       "      <td>ethiopia declares nationwide emergency rebel a...</td>\n",
       "      <td>ethiopia declares nationwide emergency rebel a...</td>\n",
       "      <td>1635890846</td>\n",
       "    </tr>\n",
       "    <tr>\n",
       "      <th>15193</th>\n",
       "      <td>CryptoCurrency</td>\n",
       "      <td>australia largest bank integrate bitcoin ervic...</td>\n",
       "      <td>australia largest bank integrate bitcoin ervic...</td>\n",
       "      <td>1635890837</td>\n",
       "    </tr>\n",
       "    <tr>\n",
       "      <th>15194</th>\n",
       "      <td>CryptoCurrency</td>\n",
       "      <td>hill favorite one liner related crypto</td>\n",
       "      <td>hill favorite one liner related crypto</td>\n",
       "      <td>1635890814</td>\n",
       "    </tr>\n",
       "    <tr>\n",
       "      <th>15195</th>\n",
       "      <td>CryptoCurrency</td>\n",
       "      <td></td>\n",
       "      <td></td>\n",
       "      <td>1635890793</td>\n",
       "    </tr>\n",
       "    <tr>\n",
       "      <th>15196</th>\n",
       "      <td>CryptoCurrency</td>\n",
       "      <td>gari token</td>\n",
       "      <td>gari token</td>\n",
       "      <td>1635890748</td>\n",
       "    </tr>\n",
       "    <tr>\n",
       "      <th>15197</th>\n",
       "      <td>CryptoCurrency</td>\n",
       "      <td>10 billion hex take ending 30 day</td>\n",
       "      <td>10 billion hex take ending 30 day</td>\n",
       "      <td>1635890721</td>\n",
       "    </tr>\n",
       "    <tr>\n",
       "      <th>15198</th>\n",
       "      <td>CryptoCurrency</td>\n",
       "      <td>dogebonk creator put billboard nyc meme coin a...</td>\n",
       "      <td>dogebonk creator put billboard nyc meme coin a...</td>\n",
       "      <td>1635890704</td>\n",
       "    </tr>\n",
       "  </tbody>\n",
       "</table>\n",
       "</div>"
      ],
      "text/plain": [
       "            subreddit                                              title  \\\n",
       "15189  CryptoCurrency             tell favorite one liner related crypto   \n",
       "15190  CryptoCurrency                          nyc advertising meme coin   \n",
       "15191  CryptoCurrency  checkout com ceo say crypto stablecoins could ...   \n",
       "15192  CryptoCurrency  ethiopia declares nationwide emergency rebel a...   \n",
       "15193  CryptoCurrency  australia largest bank integrate bitcoin ervic...   \n",
       "15194  CryptoCurrency             hill favorite one liner related crypto   \n",
       "15195  CryptoCurrency                                                      \n",
       "15196  CryptoCurrency                                         gari token   \n",
       "15197  CryptoCurrency                  10 billion hex take ending 30 day   \n",
       "15198  CryptoCurrency  dogebonk creator put billboard nyc meme coin a...   \n",
       "\n",
       "                                                selftext  created_utc  \n",
       "15189  experienced crypto investor spent countless ho...   1635890888  \n",
       "15190                          nyc advertising meme coin   1635890855  \n",
       "15191  checkout com ceo say crypto stablecoins could ...   1635890855  \n",
       "15192  ethiopia declares nationwide emergency rebel a...   1635890846  \n",
       "15193  australia largest bank integrate bitcoin ervic...   1635890837  \n",
       "15194             hill favorite one liner related crypto   1635890814  \n",
       "15195                                                      1635890793  \n",
       "15196                                         gari token   1635890748  \n",
       "15197                  10 billion hex take ending 30 day   1635890721  \n",
       "15198  dogebonk creator put billboard nyc meme coin a...   1635890704  "
      ]
     },
     "execution_count": 20,
     "metadata": {},
     "output_type": "execute_result"
    }
   ],
   "source": [
    "sr_posts.tail(10)"
   ]
  },
  {
   "cell_type": "markdown",
   "id": "67d9b678",
   "metadata": {},
   "source": [
    "- **Drop** `title` **and** `created_utc` **columns**"
   ]
  },
  {
   "cell_type": "code",
   "execution_count": 21,
   "id": "b1513301",
   "metadata": {
    "ExecuteTime": {
     "end_time": "2021-12-09T03:04:35.443126Z",
     "start_time": "2021-12-09T03:04:35.434127Z"
    }
   },
   "outputs": [],
   "source": [
    "sr_posts.drop(columns=['title', 'created_utc'], axis=1, inplace=True)"
   ]
  },
  {
   "cell_type": "code",
   "execution_count": 22,
   "id": "ec88d1c2",
   "metadata": {
    "ExecuteTime": {
     "end_time": "2021-12-09T03:04:36.007832Z",
     "start_time": "2021-12-09T03:04:35.993831Z"
    }
   },
   "outputs": [
    {
     "data": {
      "text/html": [
       "<div>\n",
       "<style scoped>\n",
       "    .dataframe tbody tr th:only-of-type {\n",
       "        vertical-align: middle;\n",
       "    }\n",
       "\n",
       "    .dataframe tbody tr th {\n",
       "        vertical-align: top;\n",
       "    }\n",
       "\n",
       "    .dataframe thead th {\n",
       "        text-align: right;\n",
       "    }\n",
       "</style>\n",
       "<table border=\"1\" class=\"dataframe\">\n",
       "  <thead>\n",
       "    <tr style=\"text-align: right;\">\n",
       "      <th></th>\n",
       "      <th>subreddit</th>\n",
       "      <th>selftext</th>\n",
       "    </tr>\n",
       "  </thead>\n",
       "  <tbody>\n",
       "    <tr>\n",
       "      <th>0</th>\n",
       "      <td>pennystocks</td>\n",
       "      <td>dd crtd creatd think one lot potential short t...</td>\n",
       "    </tr>\n",
       "    <tr>\n",
       "      <th>1</th>\n",
       "      <td>pennystocks</td>\n",
       "      <td>let say daily volume penny stock 250 million h...</td>\n",
       "    </tr>\n",
       "    <tr>\n",
       "      <th>2</th>\n",
       "      <td>pennystocks</td>\n",
       "      <td>add truffle pasta shiba</td>\n",
       "    </tr>\n",
       "    <tr>\n",
       "      <th>3</th>\n",
       "      <td>pennystocks</td>\n",
       "      <td>doubleview gold corp junior mining company cur...</td>\n",
       "    </tr>\n",
       "    <tr>\n",
       "      <th>4</th>\n",
       "      <td>pennystocks</td>\n",
       "      <td>doubleview gold corp junior mining company cur...</td>\n",
       "    </tr>\n",
       "  </tbody>\n",
       "</table>\n",
       "</div>"
      ],
      "text/plain": [
       "     subreddit                                           selftext\n",
       "0  pennystocks  dd crtd creatd think one lot potential short t...\n",
       "1  pennystocks  let say daily volume penny stock 250 million h...\n",
       "2  pennystocks                            add truffle pasta shiba\n",
       "3  pennystocks  doubleview gold corp junior mining company cur...\n",
       "4  pennystocks  doubleview gold corp junior mining company cur..."
      ]
     },
     "execution_count": 22,
     "metadata": {},
     "output_type": "execute_result"
    }
   ],
   "source": [
    "sr_posts.head()"
   ]
  },
  {
   "cell_type": "markdown",
   "id": "eaa9f205",
   "metadata": {},
   "source": [
    "- **Change** `subreddit` **categories to** `0` **(for** `pennystocks`**) and** `1` **(for** `CryptoCurrency`**)**"
   ]
  },
  {
   "cell_type": "code",
   "execution_count": 23,
   "id": "66db9d72",
   "metadata": {
    "ExecuteTime": {
     "end_time": "2021-12-09T03:04:37.632971Z",
     "start_time": "2021-12-09T03:04:37.609251Z"
    }
   },
   "outputs": [],
   "source": [
    "sr_posts['subreddit'] = sr_posts['subreddit'].map({'pennystocks': 0, 'CryptoCurrency': 1})"
   ]
  },
  {
   "cell_type": "code",
   "execution_count": 24,
   "id": "e7e691ca",
   "metadata": {
    "ExecuteTime": {
     "end_time": "2021-12-09T03:04:40.317580Z",
     "start_time": "2021-12-09T03:04:40.297582Z"
    },
    "scrolled": false
   },
   "outputs": [
    {
     "data": {
      "text/html": [
       "<div>\n",
       "<style scoped>\n",
       "    .dataframe tbody tr th:only-of-type {\n",
       "        vertical-align: middle;\n",
       "    }\n",
       "\n",
       "    .dataframe tbody tr th {\n",
       "        vertical-align: top;\n",
       "    }\n",
       "\n",
       "    .dataframe thead th {\n",
       "        text-align: right;\n",
       "    }\n",
       "</style>\n",
       "<table border=\"1\" class=\"dataframe\">\n",
       "  <thead>\n",
       "    <tr style=\"text-align: right;\">\n",
       "      <th></th>\n",
       "      <th>subreddit</th>\n",
       "      <th>selftext</th>\n",
       "    </tr>\n",
       "  </thead>\n",
       "  <tbody>\n",
       "    <tr>\n",
       "      <th>0</th>\n",
       "      <td>0</td>\n",
       "      <td>dd crtd creatd think one lot potential short t...</td>\n",
       "    </tr>\n",
       "    <tr>\n",
       "      <th>1</th>\n",
       "      <td>0</td>\n",
       "      <td>let say daily volume penny stock 250 million h...</td>\n",
       "    </tr>\n",
       "    <tr>\n",
       "      <th>2</th>\n",
       "      <td>0</td>\n",
       "      <td>add truffle pasta shiba</td>\n",
       "    </tr>\n",
       "    <tr>\n",
       "      <th>3</th>\n",
       "      <td>0</td>\n",
       "      <td>doubleview gold corp junior mining company cur...</td>\n",
       "    </tr>\n",
       "    <tr>\n",
       "      <th>4</th>\n",
       "      <td>0</td>\n",
       "      <td>doubleview gold corp junior mining company cur...</td>\n",
       "    </tr>\n",
       "    <tr>\n",
       "      <th>...</th>\n",
       "      <td>...</td>\n",
       "      <td>...</td>\n",
       "    </tr>\n",
       "    <tr>\n",
       "      <th>15194</th>\n",
       "      <td>1</td>\n",
       "      <td>hill favorite one liner related crypto</td>\n",
       "    </tr>\n",
       "    <tr>\n",
       "      <th>15195</th>\n",
       "      <td>1</td>\n",
       "      <td></td>\n",
       "    </tr>\n",
       "    <tr>\n",
       "      <th>15196</th>\n",
       "      <td>1</td>\n",
       "      <td>gari token</td>\n",
       "    </tr>\n",
       "    <tr>\n",
       "      <th>15197</th>\n",
       "      <td>1</td>\n",
       "      <td>10 billion hex take ending 30 day</td>\n",
       "    </tr>\n",
       "    <tr>\n",
       "      <th>15198</th>\n",
       "      <td>1</td>\n",
       "      <td>dogebonk creator put billboard nyc meme coin a...</td>\n",
       "    </tr>\n",
       "  </tbody>\n",
       "</table>\n",
       "<p>15199 rows × 2 columns</p>\n",
       "</div>"
      ],
      "text/plain": [
       "       subreddit                                           selftext\n",
       "0              0  dd crtd creatd think one lot potential short t...\n",
       "1              0  let say daily volume penny stock 250 million h...\n",
       "2              0                            add truffle pasta shiba\n",
       "3              0  doubleview gold corp junior mining company cur...\n",
       "4              0  doubleview gold corp junior mining company cur...\n",
       "...          ...                                                ...\n",
       "15194          1             hill favorite one liner related crypto\n",
       "15195          1                                                   \n",
       "15196          1                                         gari token\n",
       "15197          1                  10 billion hex take ending 30 day\n",
       "15198          1  dogebonk creator put billboard nyc meme coin a...\n",
       "\n",
       "[15199 rows x 2 columns]"
      ]
     },
     "execution_count": 24,
     "metadata": {},
     "output_type": "execute_result"
    }
   ],
   "source": [
    "sr_posts"
   ]
  },
  {
   "cell_type": "markdown",
   "id": "70f2e0c9",
   "metadata": {},
   "source": [
    "- **Catch any empty cells**\n",
    "> Replace any empty cells with NaN, then drop those rows"
   ]
  },
  {
   "cell_type": "code",
   "execution_count": 25,
   "id": "7bf974cd",
   "metadata": {
    "ExecuteTime": {
     "end_time": "2021-12-09T03:04:45.225389Z",
     "start_time": "2021-12-09T03:04:45.209391Z"
    }
   },
   "outputs": [],
   "source": [
    "# https://stackoverflow.com/questions/29314033/drop-rows-containing-empty-cells-from-a-pandas-dataframe\n",
    "sr_posts['selftext'].replace('', np.nan, inplace=True)"
   ]
  },
  {
   "cell_type": "code",
   "execution_count": 26,
   "id": "fa84fb9a",
   "metadata": {
    "ExecuteTime": {
     "end_time": "2021-12-09T03:04:45.664714Z",
     "start_time": "2021-12-09T03:04:45.643716Z"
    },
    "scrolled": true
   },
   "outputs": [
    {
     "data": {
      "text/plain": [
       "subreddit     0\n",
       "selftext     80\n",
       "dtype: int64"
      ]
     },
     "execution_count": 26,
     "metadata": {},
     "output_type": "execute_result"
    }
   ],
   "source": [
    "sr_posts.isnull().sum()"
   ]
  },
  {
   "cell_type": "code",
   "execution_count": 27,
   "id": "0bf2214e",
   "metadata": {
    "ExecuteTime": {
     "end_time": "2021-12-09T03:04:46.570215Z",
     "start_time": "2021-12-09T03:04:46.505917Z"
    }
   },
   "outputs": [],
   "source": [
    "sr_posts.dropna(subset=['selftext'], inplace=True)"
   ]
  },
  {
   "cell_type": "code",
   "execution_count": 28,
   "id": "55462166",
   "metadata": {
    "ExecuteTime": {
     "end_time": "2021-12-09T03:04:47.163334Z",
     "start_time": "2021-12-09T03:04:47.145653Z"
    }
   },
   "outputs": [
    {
     "data": {
      "text/plain": [
       "subreddit    0\n",
       "selftext     0\n",
       "dtype: int64"
      ]
     },
     "execution_count": 28,
     "metadata": {},
     "output_type": "execute_result"
    }
   ],
   "source": [
    "sr_posts.isnull().sum()"
   ]
  },
  {
   "cell_type": "markdown",
   "id": "cd4fc811",
   "metadata": {},
   "source": [
    "- **Add word count column to dataframe**"
   ]
  },
  {
   "cell_type": "code",
   "execution_count": 29,
   "id": "6dce6683",
   "metadata": {
    "ExecuteTime": {
     "end_time": "2021-12-09T03:04:49.977886Z",
     "start_time": "2021-12-09T03:04:49.897281Z"
    },
    "scrolled": true
   },
   "outputs": [],
   "source": [
    "sr_posts['post_word_count'] = sr_posts['selftext'].apply(word_count)"
   ]
  },
  {
   "cell_type": "code",
   "execution_count": 30,
   "id": "8e35b9db",
   "metadata": {
    "ExecuteTime": {
     "end_time": "2021-12-09T03:04:51.037231Z",
     "start_time": "2021-12-09T03:04:51.018230Z"
    },
    "scrolled": true
   },
   "outputs": [
    {
     "data": {
      "text/html": [
       "<div>\n",
       "<style scoped>\n",
       "    .dataframe tbody tr th:only-of-type {\n",
       "        vertical-align: middle;\n",
       "    }\n",
       "\n",
       "    .dataframe tbody tr th {\n",
       "        vertical-align: top;\n",
       "    }\n",
       "\n",
       "    .dataframe thead th {\n",
       "        text-align: right;\n",
       "    }\n",
       "</style>\n",
       "<table border=\"1\" class=\"dataframe\">\n",
       "  <thead>\n",
       "    <tr style=\"text-align: right;\">\n",
       "      <th></th>\n",
       "      <th>subreddit</th>\n",
       "      <th>selftext</th>\n",
       "      <th>post_word_count</th>\n",
       "    </tr>\n",
       "  </thead>\n",
       "  <tbody>\n",
       "    <tr>\n",
       "      <th>0</th>\n",
       "      <td>0</td>\n",
       "      <td>dd crtd creatd think one lot potential short t...</td>\n",
       "      <td>158</td>\n",
       "    </tr>\n",
       "    <tr>\n",
       "      <th>1</th>\n",
       "      <td>0</td>\n",
       "      <td>let say daily volume penny stock 250 million h...</td>\n",
       "      <td>41</td>\n",
       "    </tr>\n",
       "    <tr>\n",
       "      <th>2</th>\n",
       "      <td>0</td>\n",
       "      <td>add truffle pasta shiba</td>\n",
       "      <td>4</td>\n",
       "    </tr>\n",
       "    <tr>\n",
       "      <th>3</th>\n",
       "      <td>0</td>\n",
       "      <td>doubleview gold corp junior mining company cur...</td>\n",
       "      <td>266</td>\n",
       "    </tr>\n",
       "    <tr>\n",
       "      <th>4</th>\n",
       "      <td>0</td>\n",
       "      <td>doubleview gold corp junior mining company cur...</td>\n",
       "      <td>266</td>\n",
       "    </tr>\n",
       "  </tbody>\n",
       "</table>\n",
       "</div>"
      ],
      "text/plain": [
       "   subreddit                                           selftext  \\\n",
       "0          0  dd crtd creatd think one lot potential short t...   \n",
       "1          0  let say daily volume penny stock 250 million h...   \n",
       "2          0                            add truffle pasta shiba   \n",
       "3          0  doubleview gold corp junior mining company cur...   \n",
       "4          0  doubleview gold corp junior mining company cur...   \n",
       "\n",
       "   post_word_count  \n",
       "0              158  \n",
       "1               41  \n",
       "2                4  \n",
       "3              266  \n",
       "4              266  "
      ]
     },
     "execution_count": 30,
     "metadata": {},
     "output_type": "execute_result"
    }
   ],
   "source": [
    "sr_posts.head(5)"
   ]
  },
  {
   "cell_type": "code",
   "execution_count": 31,
   "id": "dc8a5209",
   "metadata": {
    "ExecuteTime": {
     "end_time": "2021-12-09T03:04:53.524923Z",
     "start_time": "2021-12-09T03:04:53.498223Z"
    }
   },
   "outputs": [
    {
     "data": {
      "text/html": [
       "<div>\n",
       "<style scoped>\n",
       "    .dataframe tbody tr th:only-of-type {\n",
       "        vertical-align: middle;\n",
       "    }\n",
       "\n",
       "    .dataframe tbody tr th {\n",
       "        vertical-align: top;\n",
       "    }\n",
       "\n",
       "    .dataframe thead th {\n",
       "        text-align: right;\n",
       "    }\n",
       "</style>\n",
       "<table border=\"1\" class=\"dataframe\">\n",
       "  <thead>\n",
       "    <tr style=\"text-align: right;\">\n",
       "      <th></th>\n",
       "      <th>subreddit</th>\n",
       "      <th>selftext</th>\n",
       "      <th>post_word_count</th>\n",
       "    </tr>\n",
       "  </thead>\n",
       "  <tbody>\n",
       "    <tr>\n",
       "      <th>0</th>\n",
       "      <td>0</td>\n",
       "      <td>dd crtd creatd think one lot potential short t...</td>\n",
       "      <td>158</td>\n",
       "    </tr>\n",
       "    <tr>\n",
       "      <th>1</th>\n",
       "      <td>0</td>\n",
       "      <td>let say daily volume penny stock 250 million h...</td>\n",
       "      <td>41</td>\n",
       "    </tr>\n",
       "    <tr>\n",
       "      <th>2</th>\n",
       "      <td>0</td>\n",
       "      <td>add truffle pasta shiba</td>\n",
       "      <td>4</td>\n",
       "    </tr>\n",
       "    <tr>\n",
       "      <th>3</th>\n",
       "      <td>0</td>\n",
       "      <td>doubleview gold corp junior mining company cur...</td>\n",
       "      <td>266</td>\n",
       "    </tr>\n",
       "    <tr>\n",
       "      <th>4</th>\n",
       "      <td>0</td>\n",
       "      <td>doubleview gold corp junior mining company cur...</td>\n",
       "      <td>266</td>\n",
       "    </tr>\n",
       "    <tr>\n",
       "      <th>...</th>\n",
       "      <td>...</td>\n",
       "      <td>...</td>\n",
       "      <td>...</td>\n",
       "    </tr>\n",
       "    <tr>\n",
       "      <th>15193</th>\n",
       "      <td>1</td>\n",
       "      <td>australia largest bank integrate bitcoin ervic...</td>\n",
       "      <td>7</td>\n",
       "    </tr>\n",
       "    <tr>\n",
       "      <th>15194</th>\n",
       "      <td>1</td>\n",
       "      <td>hill favorite one liner related crypto</td>\n",
       "      <td>6</td>\n",
       "    </tr>\n",
       "    <tr>\n",
       "      <th>15196</th>\n",
       "      <td>1</td>\n",
       "      <td>gari token</td>\n",
       "      <td>2</td>\n",
       "    </tr>\n",
       "    <tr>\n",
       "      <th>15197</th>\n",
       "      <td>1</td>\n",
       "      <td>10 billion hex take ending 30 day</td>\n",
       "      <td>7</td>\n",
       "    </tr>\n",
       "    <tr>\n",
       "      <th>15198</th>\n",
       "      <td>1</td>\n",
       "      <td>dogebonk creator put billboard nyc meme coin a...</td>\n",
       "      <td>10</td>\n",
       "    </tr>\n",
       "  </tbody>\n",
       "</table>\n",
       "<p>15119 rows × 3 columns</p>\n",
       "</div>"
      ],
      "text/plain": [
       "       subreddit                                           selftext  \\\n",
       "0              0  dd crtd creatd think one lot potential short t...   \n",
       "1              0  let say daily volume penny stock 250 million h...   \n",
       "2              0                            add truffle pasta shiba   \n",
       "3              0  doubleview gold corp junior mining company cur...   \n",
       "4              0  doubleview gold corp junior mining company cur...   \n",
       "...          ...                                                ...   \n",
       "15193          1  australia largest bank integrate bitcoin ervic...   \n",
       "15194          1             hill favorite one liner related crypto   \n",
       "15196          1                                         gari token   \n",
       "15197          1                  10 billion hex take ending 30 day   \n",
       "15198          1  dogebonk creator put billboard nyc meme coin a...   \n",
       "\n",
       "       post_word_count  \n",
       "0                  158  \n",
       "1                   41  \n",
       "2                    4  \n",
       "3                  266  \n",
       "4                  266  \n",
       "...                ...  \n",
       "15193                7  \n",
       "15194                6  \n",
       "15196                2  \n",
       "15197                7  \n",
       "15198               10  \n",
       "\n",
       "[15119 rows x 3 columns]"
      ]
     },
     "execution_count": 31,
     "metadata": {},
     "output_type": "execute_result"
    }
   ],
   "source": [
    "sr_posts"
   ]
  },
  {
   "cell_type": "markdown",
   "id": "4b20fda7",
   "metadata": {},
   "source": [
    "- **Export data to CSV**"
   ]
  },
  {
   "cell_type": "code",
   "execution_count": 32,
   "id": "0a0a2912",
   "metadata": {
    "ExecuteTime": {
     "end_time": "2021-11-05T21:54:21.379316Z",
     "start_time": "2021-11-05T21:54:21.369320Z"
    }
   },
   "outputs": [],
   "source": [
    "# sr_posts.to_csv('./data/sr_posts_clean.csv')"
   ]
  },
  {
   "cell_type": "markdown",
   "id": "466fe2d9",
   "metadata": {},
   "source": [
    "### EDA"
   ]
  },
  {
   "cell_type": "markdown",
   "id": "6896bfc5",
   "metadata": {},
   "source": [
    "- **Class balance**"
   ]
  },
  {
   "cell_type": "code",
   "execution_count": 53,
   "id": "e3acc9d1",
   "metadata": {
    "ExecuteTime": {
     "end_time": "2021-12-09T04:21:38.365462Z",
     "start_time": "2021-12-09T04:21:38.194968Z"
    }
   },
   "outputs": [
    {
     "data": {
      "image/png": "[encoded data removed]",
      "text/plain": [
       "<Figure size 432x288 with 1 Axes>"
      ]
     },
     "metadata": {
      "needs_background": "light"
     },
     "output_type": "display_data"
    }
   ],
   "source": [
    "plt.title('Data Balance');\n",
    "sns.countplot(data=sr_posts, x='subreddit');"
   ]
  },
  {
   "cell_type": "markdown",
   "id": "c246aabe",
   "metadata": {},
   "source": [
    "- **Total number of words per subreddit**"
   ]
  },
  {
   "cell_type": "code",
   "execution_count": 54,
   "id": "a63944cb",
   "metadata": {
    "ExecuteTime": {
     "end_time": "2021-12-09T04:21:41.865389Z",
     "start_time": "2021-12-09T04:21:41.673125Z"
    },
    "scrolled": true
   },
   "outputs": [
    {
     "data": {
      "image/png": "[encoded data removed]",
      "text/plain": [
       "<Figure size 432x288 with 1 Axes>"
      ]
     },
     "metadata": {
      "needs_background": "light"
     },
     "output_type": "display_data"
    }
   ],
   "source": [
    "plt.title('Total Number of Words by Subreddit');\n",
    "tot_words_per_sr = sr_posts.groupby('subreddit', as_index=False)[['post_word_count']].sum().rename(\n",
    "    columns = {'post_word_count': 'total_words'}\n",
    ")\n",
    "tot_words_per_sr['subreddit'] = tot_words_per_sr['subreddit'].apply(lambda x: str(x))\n",
    "plt.bar(x = tot_words_per_sr['subreddit'], height = tot_words_per_sr['total_words'], color = 'indigo')\n",
    "plt.xlabel('Class', size = 13)\n",
    "plt.ylabel('Word Count', size = 11);"
   ]
  },
  {
   "cell_type": "code",
   "execution_count": 55,
   "id": "60631304",
   "metadata": {
    "ExecuteTime": {
     "end_time": "2021-12-09T04:21:45.740377Z",
     "start_time": "2021-12-09T04:21:45.725381Z"
    },
    "scrolled": true
   },
   "outputs": [
    {
     "data": {
      "text/html": [
       "<div>\n",
       "<style scoped>\n",
       "    .dataframe tbody tr th:only-of-type {\n",
       "        vertical-align: middle;\n",
       "    }\n",
       "\n",
       "    .dataframe tbody tr th {\n",
       "        vertical-align: top;\n",
       "    }\n",
       "\n",
       "    .dataframe thead th {\n",
       "        text-align: right;\n",
       "    }\n",
       "</style>\n",
       "<table border=\"1\" class=\"dataframe\">\n",
       "  <thead>\n",
       "    <tr style=\"text-align: right;\">\n",
       "      <th></th>\n",
       "      <th>subreddit</th>\n",
       "      <th>total_words</th>\n",
       "    </tr>\n",
       "  </thead>\n",
       "  <tbody>\n",
       "    <tr>\n",
       "      <th>0</th>\n",
       "      <td>0</td>\n",
       "      <td>410584</td>\n",
       "    </tr>\n",
       "    <tr>\n",
       "      <th>1</th>\n",
       "      <td>1</td>\n",
       "      <td>240303</td>\n",
       "    </tr>\n",
       "  </tbody>\n",
       "</table>\n",
       "</div>"
      ],
      "text/plain": [
       "  subreddit  total_words\n",
       "0         0       410584\n",
       "1         1       240303"
      ]
     },
     "execution_count": 55,
     "metadata": {},
     "output_type": "execute_result"
    }
   ],
   "source": [
    "tot_words_per_sr"
   ]
  },
  {
   "cell_type": "markdown",
   "id": "4da85681",
   "metadata": {},
   "source": [
    "The pennystock subreddit has 70% more words (410588) compared to the total number of words (240309) in the CryptoCurrency subreddit."
   ]
  },
  {
   "cell_type": "markdown",
   "id": "697b4424",
   "metadata": {},
   "source": [
    "- **Fifteen (15) most commonly used words in pennystock subreddit**"
   ]
  },
  {
   "cell_type": "code",
   "execution_count": 36,
   "id": "c7e7726f",
   "metadata": {
    "ExecuteTime": {
     "end_time": "2021-12-09T03:06:38.427814Z",
     "start_time": "2021-12-09T03:06:38.412816Z"
    }
   },
   "outputs": [],
   "source": [
    "# create dataframe where subreddit equals 0\n",
    "penny = sr_posts[sr_posts['subreddit'] == 0]"
   ]
  },
  {
   "cell_type": "code",
   "execution_count": 37,
   "id": "823a9fdd",
   "metadata": {
    "ExecuteTime": {
     "end_time": "2021-12-09T03:06:39.973861Z",
     "start_time": "2021-12-09T03:06:39.166484Z"
    }
   },
   "outputs": [
    {
     "data": {
      "text/html": [
       "<div>\n",
       "<style scoped>\n",
       "    .dataframe tbody tr th:only-of-type {\n",
       "        vertical-align: middle;\n",
       "    }\n",
       "\n",
       "    .dataframe tbody tr th {\n",
       "        vertical-align: top;\n",
       "    }\n",
       "\n",
       "    .dataframe thead th {\n",
       "        text-align: right;\n",
       "    }\n",
       "</style>\n",
       "<table border=\"1\" class=\"dataframe\">\n",
       "  <thead>\n",
       "    <tr style=\"text-align: right;\">\n",
       "      <th></th>\n",
       "      <th>00</th>\n",
       "      <th>0000</th>\n",
       "      <th>0000000000001</th>\n",
       "      <th>00000000001</th>\n",
       "      <th>000001</th>\n",
       "      <th>00005</th>\n",
       "      <th>0000908259</th>\n",
       "      <th>0000s</th>\n",
       "      <th>0001</th>\n",
       "      <th>0001334831</th>\n",
       "      <th>...</th>\n",
       "      <th>zuki</th>\n",
       "      <th>zulu</th>\n",
       "      <th>zuo</th>\n",
       "      <th>zuora</th>\n",
       "      <th>zvv</th>\n",
       "      <th>zynerba</th>\n",
       "      <th>în</th>\n",
       "      <th>α7</th>\n",
       "      <th>α7nachr</th>\n",
       "      <th>ﬁt</th>\n",
       "    </tr>\n",
       "  </thead>\n",
       "  <tbody>\n",
       "    <tr>\n",
       "      <th>0</th>\n",
       "      <td>0</td>\n",
       "      <td>0</td>\n",
       "      <td>0</td>\n",
       "      <td>0</td>\n",
       "      <td>0</td>\n",
       "      <td>0</td>\n",
       "      <td>0</td>\n",
       "      <td>0</td>\n",
       "      <td>0</td>\n",
       "      <td>0</td>\n",
       "      <td>...</td>\n",
       "      <td>0</td>\n",
       "      <td>0</td>\n",
       "      <td>0</td>\n",
       "      <td>0</td>\n",
       "      <td>0</td>\n",
       "      <td>0</td>\n",
       "      <td>0</td>\n",
       "      <td>0</td>\n",
       "      <td>0</td>\n",
       "      <td>0</td>\n",
       "    </tr>\n",
       "    <tr>\n",
       "      <th>1</th>\n",
       "      <td>0</td>\n",
       "      <td>0</td>\n",
       "      <td>0</td>\n",
       "      <td>0</td>\n",
       "      <td>0</td>\n",
       "      <td>0</td>\n",
       "      <td>0</td>\n",
       "      <td>0</td>\n",
       "      <td>0</td>\n",
       "      <td>0</td>\n",
       "      <td>...</td>\n",
       "      <td>0</td>\n",
       "      <td>0</td>\n",
       "      <td>0</td>\n",
       "      <td>0</td>\n",
       "      <td>0</td>\n",
       "      <td>0</td>\n",
       "      <td>0</td>\n",
       "      <td>0</td>\n",
       "      <td>0</td>\n",
       "      <td>0</td>\n",
       "    </tr>\n",
       "    <tr>\n",
       "      <th>2</th>\n",
       "      <td>0</td>\n",
       "      <td>0</td>\n",
       "      <td>0</td>\n",
       "      <td>0</td>\n",
       "      <td>0</td>\n",
       "      <td>0</td>\n",
       "      <td>0</td>\n",
       "      <td>0</td>\n",
       "      <td>0</td>\n",
       "      <td>0</td>\n",
       "      <td>...</td>\n",
       "      <td>0</td>\n",
       "      <td>0</td>\n",
       "      <td>0</td>\n",
       "      <td>0</td>\n",
       "      <td>0</td>\n",
       "      <td>0</td>\n",
       "      <td>0</td>\n",
       "      <td>0</td>\n",
       "      <td>0</td>\n",
       "      <td>0</td>\n",
       "    </tr>\n",
       "    <tr>\n",
       "      <th>3</th>\n",
       "      <td>0</td>\n",
       "      <td>0</td>\n",
       "      <td>0</td>\n",
       "      <td>0</td>\n",
       "      <td>0</td>\n",
       "      <td>0</td>\n",
       "      <td>0</td>\n",
       "      <td>0</td>\n",
       "      <td>0</td>\n",
       "      <td>0</td>\n",
       "      <td>...</td>\n",
       "      <td>0</td>\n",
       "      <td>0</td>\n",
       "      <td>0</td>\n",
       "      <td>0</td>\n",
       "      <td>0</td>\n",
       "      <td>0</td>\n",
       "      <td>0</td>\n",
       "      <td>0</td>\n",
       "      <td>0</td>\n",
       "      <td>0</td>\n",
       "    </tr>\n",
       "    <tr>\n",
       "      <th>4</th>\n",
       "      <td>0</td>\n",
       "      <td>0</td>\n",
       "      <td>0</td>\n",
       "      <td>0</td>\n",
       "      <td>0</td>\n",
       "      <td>0</td>\n",
       "      <td>0</td>\n",
       "      <td>0</td>\n",
       "      <td>0</td>\n",
       "      <td>0</td>\n",
       "      <td>...</td>\n",
       "      <td>0</td>\n",
       "      <td>0</td>\n",
       "      <td>0</td>\n",
       "      <td>0</td>\n",
       "      <td>0</td>\n",
       "      <td>0</td>\n",
       "      <td>0</td>\n",
       "      <td>0</td>\n",
       "      <td>0</td>\n",
       "      <td>0</td>\n",
       "    </tr>\n",
       "    <tr>\n",
       "      <th>...</th>\n",
       "      <td>...</td>\n",
       "      <td>...</td>\n",
       "      <td>...</td>\n",
       "      <td>...</td>\n",
       "      <td>...</td>\n",
       "      <td>...</td>\n",
       "      <td>...</td>\n",
       "      <td>...</td>\n",
       "      <td>...</td>\n",
       "      <td>...</td>\n",
       "      <td>...</td>\n",
       "      <td>...</td>\n",
       "      <td>...</td>\n",
       "      <td>...</td>\n",
       "      <td>...</td>\n",
       "      <td>...</td>\n",
       "      <td>...</td>\n",
       "      <td>...</td>\n",
       "      <td>...</td>\n",
       "      <td>...</td>\n",
       "      <td>...</td>\n",
       "    </tr>\n",
       "    <tr>\n",
       "      <th>7585</th>\n",
       "      <td>0</td>\n",
       "      <td>0</td>\n",
       "      <td>0</td>\n",
       "      <td>0</td>\n",
       "      <td>0</td>\n",
       "      <td>0</td>\n",
       "      <td>0</td>\n",
       "      <td>0</td>\n",
       "      <td>0</td>\n",
       "      <td>0</td>\n",
       "      <td>...</td>\n",
       "      <td>0</td>\n",
       "      <td>0</td>\n",
       "      <td>0</td>\n",
       "      <td>0</td>\n",
       "      <td>0</td>\n",
       "      <td>0</td>\n",
       "      <td>0</td>\n",
       "      <td>0</td>\n",
       "      <td>0</td>\n",
       "      <td>0</td>\n",
       "    </tr>\n",
       "    <tr>\n",
       "      <th>7586</th>\n",
       "      <td>0</td>\n",
       "      <td>0</td>\n",
       "      <td>0</td>\n",
       "      <td>0</td>\n",
       "      <td>0</td>\n",
       "      <td>0</td>\n",
       "      <td>0</td>\n",
       "      <td>0</td>\n",
       "      <td>0</td>\n",
       "      <td>0</td>\n",
       "      <td>...</td>\n",
       "      <td>0</td>\n",
       "      <td>0</td>\n",
       "      <td>0</td>\n",
       "      <td>0</td>\n",
       "      <td>0</td>\n",
       "      <td>0</td>\n",
       "      <td>0</td>\n",
       "      <td>0</td>\n",
       "      <td>0</td>\n",
       "      <td>0</td>\n",
       "    </tr>\n",
       "    <tr>\n",
       "      <th>7587</th>\n",
       "      <td>0</td>\n",
       "      <td>0</td>\n",
       "      <td>0</td>\n",
       "      <td>0</td>\n",
       "      <td>0</td>\n",
       "      <td>0</td>\n",
       "      <td>0</td>\n",
       "      <td>0</td>\n",
       "      <td>0</td>\n",
       "      <td>0</td>\n",
       "      <td>...</td>\n",
       "      <td>0</td>\n",
       "      <td>0</td>\n",
       "      <td>0</td>\n",
       "      <td>0</td>\n",
       "      <td>0</td>\n",
       "      <td>0</td>\n",
       "      <td>0</td>\n",
       "      <td>0</td>\n",
       "      <td>0</td>\n",
       "      <td>0</td>\n",
       "    </tr>\n",
       "    <tr>\n",
       "      <th>7588</th>\n",
       "      <td>0</td>\n",
       "      <td>0</td>\n",
       "      <td>0</td>\n",
       "      <td>0</td>\n",
       "      <td>0</td>\n",
       "      <td>0</td>\n",
       "      <td>0</td>\n",
       "      <td>0</td>\n",
       "      <td>0</td>\n",
       "      <td>0</td>\n",
       "      <td>...</td>\n",
       "      <td>0</td>\n",
       "      <td>0</td>\n",
       "      <td>0</td>\n",
       "      <td>0</td>\n",
       "      <td>0</td>\n",
       "      <td>0</td>\n",
       "      <td>0</td>\n",
       "      <td>0</td>\n",
       "      <td>0</td>\n",
       "      <td>0</td>\n",
       "    </tr>\n",
       "    <tr>\n",
       "      <th>7589</th>\n",
       "      <td>0</td>\n",
       "      <td>0</td>\n",
       "      <td>0</td>\n",
       "      <td>0</td>\n",
       "      <td>0</td>\n",
       "      <td>0</td>\n",
       "      <td>0</td>\n",
       "      <td>0</td>\n",
       "      <td>0</td>\n",
       "      <td>0</td>\n",
       "      <td>...</td>\n",
       "      <td>0</td>\n",
       "      <td>0</td>\n",
       "      <td>0</td>\n",
       "      <td>0</td>\n",
       "      <td>0</td>\n",
       "      <td>0</td>\n",
       "      <td>0</td>\n",
       "      <td>0</td>\n",
       "      <td>0</td>\n",
       "      <td>0</td>\n",
       "    </tr>\n",
       "  </tbody>\n",
       "</table>\n",
       "<p>7590 rows × 24907 columns</p>\n",
       "</div>"
      ],
      "text/plain": [
       "      00  0000  0000000000001  00000000001  000001  00005  0000908259  0000s  \\\n",
       "0      0     0              0            0       0      0           0      0   \n",
       "1      0     0              0            0       0      0           0      0   \n",
       "2      0     0              0            0       0      0           0      0   \n",
       "3      0     0              0            0       0      0           0      0   \n",
       "4      0     0              0            0       0      0           0      0   \n",
       "...   ..   ...            ...          ...     ...    ...         ...    ...   \n",
       "7585   0     0              0            0       0      0           0      0   \n",
       "7586   0     0              0            0       0      0           0      0   \n",
       "7587   0     0              0            0       0      0           0      0   \n",
       "7588   0     0              0            0       0      0           0      0   \n",
       "7589   0     0              0            0       0      0           0      0   \n",
       "\n",
       "      0001  0001334831  ...  zuki  zulu  zuo  zuora  zvv  zynerba  în  α7  \\\n",
       "0        0           0  ...     0     0    0      0    0        0   0   0   \n",
       "1        0           0  ...     0     0    0      0    0        0   0   0   \n",
       "2        0           0  ...     0     0    0      0    0        0   0   0   \n",
       "3        0           0  ...     0     0    0      0    0        0   0   0   \n",
       "4        0           0  ...     0     0    0      0    0        0   0   0   \n",
       "...    ...         ...  ...   ...   ...  ...    ...  ...      ...  ..  ..   \n",
       "7585     0           0  ...     0     0    0      0    0        0   0   0   \n",
       "7586     0           0  ...     0     0    0      0    0        0   0   0   \n",
       "7587     0           0  ...     0     0    0      0    0        0   0   0   \n",
       "7588     0           0  ...     0     0    0      0    0        0   0   0   \n",
       "7589     0           0  ...     0     0    0      0    0        0   0   0   \n",
       "\n",
       "      α7nachr  ﬁt  \n",
       "0           0   0  \n",
       "1           0   0  \n",
       "2           0   0  \n",
       "3           0   0  \n",
       "4           0   0  \n",
       "...       ...  ..  \n",
       "7585        0   0  \n",
       "7586        0   0  \n",
       "7587        0   0  \n",
       "7588        0   0  \n",
       "7589        0   0  \n",
       "\n",
       "[7590 rows x 24907 columns]"
      ]
     },
     "execution_count": 37,
     "metadata": {},
     "output_type": "execute_result"
    }
   ],
   "source": [
    "# create series of words in pennystock subreddit\n",
    "penny_words_s = penny['selftext']\n",
    "\n",
    "# create CountVectorizer instance \n",
    "cvec_penny = CountVectorizer(stop_words='english')\n",
    "\n",
    "# transform penny_words_s\n",
    "penny_words_cv = cvec_penny.fit_transform(penny_words_s)\n",
    "\n",
    "# convert penny_words_cv to dataframe so words can be counted\n",
    "penny_words_df = pd.DataFrame(penny_words_cv.todense(), columns=cvec_penny.get_feature_names())\n",
    "\n",
    "penny_words_df"
   ]
  },
  {
   "cell_type": "code",
   "execution_count": 38,
   "id": "b415a43b",
   "metadata": {
    "ExecuteTime": {
     "end_time": "2021-12-09T03:06:41.099539Z",
     "start_time": "2021-12-09T03:06:39.975863Z"
    },
    "scrolled": true
   },
   "outputs": [
    {
     "data": {
      "image/png": "[encoded data removed]",
      "text/plain": [
       "<Figure size 576x360 with 1 Axes>"
      ]
     },
     "metadata": {
      "needs_background": "light"
     },
     "output_type": "display_data"
    }
   ],
   "source": [
    "plt.title('Fifteen Most Commonly Used Words in pennystock Subreddit');\n",
    "penny_words_df.sum().sort_values(ascending = False).head(15).plot(kind='barh', figsize=(8,5));"
   ]
  },
  {
   "cell_type": "markdown",
   "id": "017cc1d4",
   "metadata": {},
   "source": [
    "- **Fifteen (15) most commonly used words in CryptoCurrency subreddit**"
   ]
  },
  {
   "cell_type": "code",
   "execution_count": 39,
   "id": "bc7a3ed4",
   "metadata": {
    "ExecuteTime": {
     "end_time": "2021-12-09T03:06:43.975048Z",
     "start_time": "2021-12-09T03:06:43.966048Z"
    }
   },
   "outputs": [],
   "source": [
    "# create dataframe where subreddit equals 1\n",
    "crypt = sr_posts[sr_posts['subreddit'] == 1]"
   ]
  },
  {
   "cell_type": "code",
   "execution_count": 40,
   "id": "f36099f7",
   "metadata": {
    "ExecuteTime": {
     "end_time": "2021-12-09T03:06:45.943877Z",
     "start_time": "2021-12-09T03:06:45.373526Z"
    }
   },
   "outputs": [
    {
     "data": {
      "text/html": [
       "<div>\n",
       "<style scoped>\n",
       "    .dataframe tbody tr th:only-of-type {\n",
       "        vertical-align: middle;\n",
       "    }\n",
       "\n",
       "    .dataframe tbody tr th {\n",
       "        vertical-align: top;\n",
       "    }\n",
       "\n",
       "    .dataframe thead th {\n",
       "        text-align: right;\n",
       "    }\n",
       "</style>\n",
       "<table border=\"1\" class=\"dataframe\">\n",
       "  <thead>\n",
       "    <tr style=\"text-align: right;\">\n",
       "      <th></th>\n",
       "      <th>00</th>\n",
       "      <th>0000</th>\n",
       "      <th>000000001</th>\n",
       "      <th>000000007263</th>\n",
       "      <th>00000001</th>\n",
       "      <th>00000002284</th>\n",
       "      <th>0000000fuckall</th>\n",
       "      <th>0000001</th>\n",
       "      <th>000000131183</th>\n",
       "      <th>00000015</th>\n",
       "      <th>...</th>\n",
       "      <th>用戶增長和交易量等可衡量的指標</th>\n",
       "      <th>算力通證已成長為行業內最前沿</th>\n",
       "      <th>算力通證為我們帶來的各種專案優勢</th>\n",
       "      <th>算力通證的成功不是一蹴而就的</th>\n",
       "      <th>算力通證顯然是2020年以來行業內最大的成功案例之一</th>\n",
       "      <th>通過算力規模</th>\n",
       "      <th>鱿鱼币狂飙数千倍后崩盘的几个看点</th>\n",
       "      <th>龙头细分</th>\n",
       "      <th>𝑺𝒖𝒑𝒆𝒓𝑨𝒊𝒓𝒅𝒓𝒐𝒑</th>\n",
       "      <th>𝙗𝙤𝙩𝙝</th>\n",
       "    </tr>\n",
       "  </thead>\n",
       "  <tbody>\n",
       "    <tr>\n",
       "      <th>0</th>\n",
       "      <td>0</td>\n",
       "      <td>0</td>\n",
       "      <td>0</td>\n",
       "      <td>0</td>\n",
       "      <td>0</td>\n",
       "      <td>0</td>\n",
       "      <td>0</td>\n",
       "      <td>0</td>\n",
       "      <td>0</td>\n",
       "      <td>0</td>\n",
       "      <td>...</td>\n",
       "      <td>0</td>\n",
       "      <td>0</td>\n",
       "      <td>0</td>\n",
       "      <td>0</td>\n",
       "      <td>0</td>\n",
       "      <td>0</td>\n",
       "      <td>0</td>\n",
       "      <td>0</td>\n",
       "      <td>0</td>\n",
       "      <td>0</td>\n",
       "    </tr>\n",
       "    <tr>\n",
       "      <th>1</th>\n",
       "      <td>0</td>\n",
       "      <td>0</td>\n",
       "      <td>0</td>\n",
       "      <td>0</td>\n",
       "      <td>0</td>\n",
       "      <td>0</td>\n",
       "      <td>0</td>\n",
       "      <td>0</td>\n",
       "      <td>0</td>\n",
       "      <td>0</td>\n",
       "      <td>...</td>\n",
       "      <td>0</td>\n",
       "      <td>0</td>\n",
       "      <td>0</td>\n",
       "      <td>0</td>\n",
       "      <td>0</td>\n",
       "      <td>0</td>\n",
       "      <td>0</td>\n",
       "      <td>0</td>\n",
       "      <td>0</td>\n",
       "      <td>0</td>\n",
       "    </tr>\n",
       "    <tr>\n",
       "      <th>2</th>\n",
       "      <td>0</td>\n",
       "      <td>0</td>\n",
       "      <td>0</td>\n",
       "      <td>0</td>\n",
       "      <td>0</td>\n",
       "      <td>0</td>\n",
       "      <td>0</td>\n",
       "      <td>0</td>\n",
       "      <td>0</td>\n",
       "      <td>0</td>\n",
       "      <td>...</td>\n",
       "      <td>0</td>\n",
       "      <td>0</td>\n",
       "      <td>0</td>\n",
       "      <td>0</td>\n",
       "      <td>0</td>\n",
       "      <td>0</td>\n",
       "      <td>0</td>\n",
       "      <td>0</td>\n",
       "      <td>0</td>\n",
       "      <td>0</td>\n",
       "    </tr>\n",
       "    <tr>\n",
       "      <th>3</th>\n",
       "      <td>0</td>\n",
       "      <td>0</td>\n",
       "      <td>0</td>\n",
       "      <td>0</td>\n",
       "      <td>0</td>\n",
       "      <td>0</td>\n",
       "      <td>0</td>\n",
       "      <td>0</td>\n",
       "      <td>0</td>\n",
       "      <td>0</td>\n",
       "      <td>...</td>\n",
       "      <td>0</td>\n",
       "      <td>0</td>\n",
       "      <td>0</td>\n",
       "      <td>0</td>\n",
       "      <td>0</td>\n",
       "      <td>0</td>\n",
       "      <td>0</td>\n",
       "      <td>0</td>\n",
       "      <td>0</td>\n",
       "      <td>0</td>\n",
       "    </tr>\n",
       "    <tr>\n",
       "      <th>4</th>\n",
       "      <td>0</td>\n",
       "      <td>0</td>\n",
       "      <td>0</td>\n",
       "      <td>0</td>\n",
       "      <td>0</td>\n",
       "      <td>0</td>\n",
       "      <td>0</td>\n",
       "      <td>0</td>\n",
       "      <td>0</td>\n",
       "      <td>0</td>\n",
       "      <td>...</td>\n",
       "      <td>0</td>\n",
       "      <td>0</td>\n",
       "      <td>0</td>\n",
       "      <td>0</td>\n",
       "      <td>0</td>\n",
       "      <td>0</td>\n",
       "      <td>0</td>\n",
       "      <td>0</td>\n",
       "      <td>0</td>\n",
       "      <td>0</td>\n",
       "    </tr>\n",
       "    <tr>\n",
       "      <th>...</th>\n",
       "      <td>...</td>\n",
       "      <td>...</td>\n",
       "      <td>...</td>\n",
       "      <td>...</td>\n",
       "      <td>...</td>\n",
       "      <td>...</td>\n",
       "      <td>...</td>\n",
       "      <td>...</td>\n",
       "      <td>...</td>\n",
       "      <td>...</td>\n",
       "      <td>...</td>\n",
       "      <td>...</td>\n",
       "      <td>...</td>\n",
       "      <td>...</td>\n",
       "      <td>...</td>\n",
       "      <td>...</td>\n",
       "      <td>...</td>\n",
       "      <td>...</td>\n",
       "      <td>...</td>\n",
       "      <td>...</td>\n",
       "      <td>...</td>\n",
       "    </tr>\n",
       "    <tr>\n",
       "      <th>7524</th>\n",
       "      <td>0</td>\n",
       "      <td>0</td>\n",
       "      <td>0</td>\n",
       "      <td>0</td>\n",
       "      <td>0</td>\n",
       "      <td>0</td>\n",
       "      <td>0</td>\n",
       "      <td>0</td>\n",
       "      <td>0</td>\n",
       "      <td>0</td>\n",
       "      <td>...</td>\n",
       "      <td>0</td>\n",
       "      <td>0</td>\n",
       "      <td>0</td>\n",
       "      <td>0</td>\n",
       "      <td>0</td>\n",
       "      <td>0</td>\n",
       "      <td>0</td>\n",
       "      <td>0</td>\n",
       "      <td>0</td>\n",
       "      <td>0</td>\n",
       "    </tr>\n",
       "    <tr>\n",
       "      <th>7525</th>\n",
       "      <td>0</td>\n",
       "      <td>0</td>\n",
       "      <td>0</td>\n",
       "      <td>0</td>\n",
       "      <td>0</td>\n",
       "      <td>0</td>\n",
       "      <td>0</td>\n",
       "      <td>0</td>\n",
       "      <td>0</td>\n",
       "      <td>0</td>\n",
       "      <td>...</td>\n",
       "      <td>0</td>\n",
       "      <td>0</td>\n",
       "      <td>0</td>\n",
       "      <td>0</td>\n",
       "      <td>0</td>\n",
       "      <td>0</td>\n",
       "      <td>0</td>\n",
       "      <td>0</td>\n",
       "      <td>0</td>\n",
       "      <td>0</td>\n",
       "    </tr>\n",
       "    <tr>\n",
       "      <th>7526</th>\n",
       "      <td>0</td>\n",
       "      <td>0</td>\n",
       "      <td>0</td>\n",
       "      <td>0</td>\n",
       "      <td>0</td>\n",
       "      <td>0</td>\n",
       "      <td>0</td>\n",
       "      <td>0</td>\n",
       "      <td>0</td>\n",
       "      <td>0</td>\n",
       "      <td>...</td>\n",
       "      <td>0</td>\n",
       "      <td>0</td>\n",
       "      <td>0</td>\n",
       "      <td>0</td>\n",
       "      <td>0</td>\n",
       "      <td>0</td>\n",
       "      <td>0</td>\n",
       "      <td>0</td>\n",
       "      <td>0</td>\n",
       "      <td>0</td>\n",
       "    </tr>\n",
       "    <tr>\n",
       "      <th>7527</th>\n",
       "      <td>0</td>\n",
       "      <td>0</td>\n",
       "      <td>0</td>\n",
       "      <td>0</td>\n",
       "      <td>0</td>\n",
       "      <td>0</td>\n",
       "      <td>0</td>\n",
       "      <td>0</td>\n",
       "      <td>0</td>\n",
       "      <td>0</td>\n",
       "      <td>...</td>\n",
       "      <td>0</td>\n",
       "      <td>0</td>\n",
       "      <td>0</td>\n",
       "      <td>0</td>\n",
       "      <td>0</td>\n",
       "      <td>0</td>\n",
       "      <td>0</td>\n",
       "      <td>0</td>\n",
       "      <td>0</td>\n",
       "      <td>0</td>\n",
       "    </tr>\n",
       "    <tr>\n",
       "      <th>7528</th>\n",
       "      <td>0</td>\n",
       "      <td>0</td>\n",
       "      <td>0</td>\n",
       "      <td>0</td>\n",
       "      <td>0</td>\n",
       "      <td>0</td>\n",
       "      <td>0</td>\n",
       "      <td>0</td>\n",
       "      <td>0</td>\n",
       "      <td>0</td>\n",
       "      <td>...</td>\n",
       "      <td>0</td>\n",
       "      <td>0</td>\n",
       "      <td>0</td>\n",
       "      <td>0</td>\n",
       "      <td>0</td>\n",
       "      <td>0</td>\n",
       "      <td>0</td>\n",
       "      <td>0</td>\n",
       "      <td>0</td>\n",
       "      <td>0</td>\n",
       "    </tr>\n",
       "  </tbody>\n",
       "</table>\n",
       "<p>7529 rows × 16716 columns</p>\n",
       "</div>"
      ],
      "text/plain": [
       "      00  0000  000000001  000000007263  00000001  00000002284  \\\n",
       "0      0     0          0             0         0            0   \n",
       "1      0     0          0             0         0            0   \n",
       "2      0     0          0             0         0            0   \n",
       "3      0     0          0             0         0            0   \n",
       "4      0     0          0             0         0            0   \n",
       "...   ..   ...        ...           ...       ...          ...   \n",
       "7524   0     0          0             0         0            0   \n",
       "7525   0     0          0             0         0            0   \n",
       "7526   0     0          0             0         0            0   \n",
       "7527   0     0          0             0         0            0   \n",
       "7528   0     0          0             0         0            0   \n",
       "\n",
       "      0000000fuckall  0000001  000000131183  00000015  ...  用戶增長和交易量等可衡量的指標  \\\n",
       "0                  0        0             0         0  ...                0   \n",
       "1                  0        0             0         0  ...                0   \n",
       "2                  0        0             0         0  ...                0   \n",
       "3                  0        0             0         0  ...                0   \n",
       "4                  0        0             0         0  ...                0   \n",
       "...              ...      ...           ...       ...  ...              ...   \n",
       "7524               0        0             0         0  ...                0   \n",
       "7525               0        0             0         0  ...                0   \n",
       "7526               0        0             0         0  ...                0   \n",
       "7527               0        0             0         0  ...                0   \n",
       "7528               0        0             0         0  ...                0   \n",
       "\n",
       "      算力通證已成長為行業內最前沿  算力通證為我們帶來的各種專案優勢  算力通證的成功不是一蹴而就的  \\\n",
       "0                  0                 0               0   \n",
       "1                  0                 0               0   \n",
       "2                  0                 0               0   \n",
       "3                  0                 0               0   \n",
       "4                  0                 0               0   \n",
       "...              ...               ...             ...   \n",
       "7524               0                 0               0   \n",
       "7525               0                 0               0   \n",
       "7526               0                 0               0   \n",
       "7527               0                 0               0   \n",
       "7528               0                 0               0   \n",
       "\n",
       "      算力通證顯然是2020年以來行業內最大的成功案例之一  通過算力規模  鱿鱼币狂飙数千倍后崩盘的几个看点  龙头细分  \\\n",
       "0                              0       0                 0     0   \n",
       "1                              0       0                 0     0   \n",
       "2                              0       0                 0     0   \n",
       "3                              0       0                 0     0   \n",
       "4                              0       0                 0     0   \n",
       "...                          ...     ...               ...   ...   \n",
       "7524                           0       0                 0     0   \n",
       "7525                           0       0                 0     0   \n",
       "7526                           0       0                 0     0   \n",
       "7527                           0       0                 0     0   \n",
       "7528                           0       0                 0     0   \n",
       "\n",
       "      𝑺𝒖𝒑𝒆𝒓𝑨𝒊𝒓𝒅𝒓𝒐𝒑  𝙗𝙤𝙩𝙝  \n",
       "0                0     0  \n",
       "1                0     0  \n",
       "2                0     0  \n",
       "3                0     0  \n",
       "4                0     0  \n",
       "...            ...   ...  \n",
       "7524             0     0  \n",
       "7525             0     0  \n",
       "7526             0     0  \n",
       "7527             0     0  \n",
       "7528             0     0  \n",
       "\n",
       "[7529 rows x 16716 columns]"
      ]
     },
     "execution_count": 40,
     "metadata": {},
     "output_type": "execute_result"
    }
   ],
   "source": [
    "# create series of words in CryptoCurreny subreddit\n",
    "crypt_words_s = crypt['selftext']\n",
    "\n",
    "# create CountVectorizer instance \n",
    "cvec_crypt = CountVectorizer(stop_words='english')\n",
    "\n",
    "# transform crypt_words_s\n",
    "crypt_words_cv = cvec_crypt.fit_transform(crypt_words_s)\n",
    "\n",
    "# convert crypt_words_cv to dataframe so words can be counted\n",
    "crypt_words_df = pd.DataFrame(crypt_words_cv.todense(), columns=cvec_crypt.get_feature_names())\n",
    "\n",
    "crypt_words_df"
   ]
  },
  {
   "cell_type": "code",
   "execution_count": 41,
   "id": "9e1765b4",
   "metadata": {
    "ExecuteTime": {
     "end_time": "2021-12-09T03:06:46.912814Z",
     "start_time": "2021-12-09T03:06:46.069024Z"
    }
   },
   "outputs": [
    {
     "data": {
      "image/png": "[encoded data removed]",
      "text/plain": [
       "<Figure size 576x360 with 1 Axes>"
      ]
     },
     "metadata": {
      "needs_background": "light"
     },
     "output_type": "display_data"
    }
   ],
   "source": [
    "plt.title('Fifteen Most Commonly Used Words in CryptoCurrency Subreddit');\n",
    "crypt_words_df.sum().sort_values(ascending = False).head(15).plot(kind='barh', figsize=(8,5));"
   ]
  },
  {
   "cell_type": "markdown",
   "id": "2848604b",
   "metadata": {},
   "source": [
    "### Build First Model-- Naïve Bayes"
   ]
  },
  {
   "cell_type": "markdown",
   "id": "c2689a88",
   "metadata": {},
   "source": [
    "- **Create feature series** `X`, **and target** `y`."
   ]
  },
  {
   "cell_type": "code",
   "execution_count": 42,
   "id": "b2a2a13e",
   "metadata": {
    "ExecuteTime": {
     "end_time": "2021-12-09T03:06:49.803321Z",
     "start_time": "2021-12-09T03:06:49.789321Z"
    }
   },
   "outputs": [],
   "source": [
    "X = sr_posts['selftext']\n",
    "y = sr_posts['subreddit']"
   ]
  },
  {
   "cell_type": "markdown",
   "id": "a223ab4f",
   "metadata": {},
   "source": [
    "- **Split dataset into training and test**"
   ]
  },
  {
   "cell_type": "code",
   "execution_count": 43,
   "id": "f20521a9",
   "metadata": {
    "ExecuteTime": {
     "end_time": "2021-12-09T03:06:51.130937Z",
     "start_time": "2021-12-09T03:06:51.117092Z"
    }
   },
   "outputs": [],
   "source": [
    "X_train, X_test, y_train, y_test = train_test_split(X, \n",
    "                                                    y, \n",
    "                                                    test_size=0.33, \n",
    "                                                    stratify=y, \n",
    "                                                    random_state=42)"
   ]
  },
  {
   "cell_type": "markdown",
   "id": "51a8cce4",
   "metadata": {},
   "source": [
    "- **Create a pipeline to hold both the transformer** `CountVectorizer` **and the estimator** `MultinomialNB`."
   ]
  },
  {
   "cell_type": "code",
   "execution_count": 44,
   "id": "420b7bb5",
   "metadata": {
    "ExecuteTime": {
     "end_time": "2021-12-09T03:07:02.052734Z",
     "start_time": "2021-12-09T03:07:02.045736Z"
    }
   },
   "outputs": [],
   "source": [
    "pipe = Pipeline([\n",
    "    ('cvec', CountVectorizer(stop_words='english')), #stop_words removes stop words and mitigates overfitting\n",
    "    ('mnb', MultinomialNB())\n",
    "])"
   ]
  },
  {
   "cell_type": "markdown",
   "id": "7366df0a",
   "metadata": {},
   "source": [
    "- **Create pipe parameters to tune the** `CountVectorizer`."
   ]
  },
  {
   "cell_type": "code",
   "execution_count": 45,
   "id": "0de76645",
   "metadata": {
    "ExecuteTime": {
     "end_time": "2021-12-09T03:07:07.833962Z",
     "start_time": "2021-12-09T03:07:07.823962Z"
    }
   },
   "outputs": [],
   "source": [
    "pipe_params = {\n",
    "    'cvec__max_features': [2000, 3000, 4000, 5000],\n",
    "    'cvec__min_df': [2, 4, 6],\n",
    "    'cvec__max_df': [.85, .9, .95],\n",
    "    'cvec__ngram_range': [(1,1), (1,2), (1,3)]\n",
    "}"
   ]
  },
  {
   "cell_type": "markdown",
   "id": "78c81324",
   "metadata": {},
   "source": [
    "- **Instantiate** `GridSearchCV`."
   ]
  },
  {
   "cell_type": "code",
   "execution_count": 46,
   "id": "cc62ea56",
   "metadata": {
    "ExecuteTime": {
     "end_time": "2021-12-09T03:07:10.255993Z",
     "start_time": "2021-12-09T03:07:10.237997Z"
    }
   },
   "outputs": [],
   "source": [
    "gs = GridSearchCV(pipe, pipe_params, cv = 5)"
   ]
  },
  {
   "cell_type": "markdown",
   "id": "69706b9c",
   "metadata": {},
   "source": [
    "- **Fit GridSearch to the training data**"
   ]
  },
  {
   "cell_type": "code",
   "execution_count": 47,
   "id": "143f0fa2",
   "metadata": {
    "ExecuteTime": {
     "end_time": "2021-12-09T03:23:28.911294Z",
     "start_time": "2021-12-09T03:07:18.077521Z"
    },
    "scrolled": true
   },
   "outputs": [
    {
     "data": {
      "text/plain": [
       "GridSearchCV(cv=5,\n",
       "             estimator=Pipeline(steps=[('cvec',\n",
       "                                        CountVectorizer(stop_words='english')),\n",
       "                                       ('mnb', MultinomialNB())]),\n",
       "             param_grid={'cvec__max_df': [0.85, 0.9, 0.95],\n",
       "                         'cvec__max_features': [2000, 3000, 4000, 5000],\n",
       "                         'cvec__min_df': [2, 4, 6],\n",
       "                         'cvec__ngram_range': [(1, 1), (1, 2), (1, 3)]})"
      ]
     },
     "execution_count": 47,
     "metadata": {},
     "output_type": "execute_result"
    }
   ],
   "source": [
    "gs.fit(X_train, y_train)"
   ]
  },
  {
   "cell_type": "code",
   "execution_count": 58,
   "id": "a0dfea5d",
   "metadata": {
    "ExecuteTime": {
     "end_time": "2021-12-09T04:50:44.036707Z",
     "start_time": "2021-12-09T04:50:44.016708Z"
    }
   },
   "outputs": [
    {
     "data": {
      "text/plain": [
       "{'cvec__max_df': 0.85,\n",
       " 'cvec__max_features': 5000,\n",
       " 'cvec__min_df': 4,\n",
       " 'cvec__ngram_range': (1, 1)}"
      ]
     },
     "execution_count": 58,
     "metadata": {},
     "output_type": "execute_result"
    }
   ],
   "source": [
    "gs.best_params_"
   ]
  },
  {
   "cell_type": "markdown",
   "id": "554e77e1",
   "metadata": {},
   "source": [
    "- **Get the training and test accuracy scores**"
   ]
  },
  {
   "cell_type": "code",
   "execution_count": 60,
   "id": "702e9997",
   "metadata": {
    "ExecuteTime": {
     "end_time": "2021-12-09T06:00:11.320662Z",
     "start_time": "2021-12-09T06:00:10.497627Z"
    }
   },
   "outputs": [
    {
     "name": "stdout",
     "output_type": "stream",
     "text": [
      "The training score is: \t0.88\n",
      "The test score is: \t0.86\n"
     ]
    }
   ],
   "source": [
    "print(f'The training score is: \\t{round(gs.score(X_train, y_train),2)}')\n",
    "print(f'The test score is: \\t{round(gs.score(X_test, y_test),2)}')"
   ]
  },
  {
   "cell_type": "markdown",
   "id": "ae77e2eb",
   "metadata": {},
   "source": [
    "- **Additional Metrics**"
   ]
  },
  {
   "cell_type": "code",
   "execution_count": 122,
   "id": "e1397899",
   "metadata": {
    "ExecuteTime": {
     "end_time": "2021-11-07T20:37:18.431230Z",
     "start_time": "2021-11-07T20:37:17.936661Z"
    }
   },
   "outputs": [
    {
     "name": "stdout",
     "output_type": "stream",
     "text": [
      "\u001b[1mTrue Negatives:\u001b[0m\n",
      "The Naïve Bayes model has 2013 true negatives.\n",
      "\n",
      "\u001b[1mFalse Positives:\u001b[0m\n",
      "The Naïve Bayes model has 492 false positives.\n",
      "\n",
      "\u001b[1mFalse Negatives:\u001b[0m\n",
      "The Naïve Bayes model has 188 false negatives.\n",
      "\n",
      "\u001b[1mTrue Positives:\u001b[0m\n",
      "The Naïve Bayes model has 2297 true positives.\n",
      "\n",
      "\u001b[1mSpecificity:\u001b[0m\n",
      "Its specificity is 0.8035928143712575\n",
      "\n",
      "\u001b[1mSensitivity:\u001b[0m\n",
      "Its sensitivity is 0.9243460764587526\n"
     ]
    },
    {
     "data": {
      "image/png": "[encoded data removed]",
      "text/plain": [
       "<Figure size 432x288 with 2 Axes>"
      ]
     },
     "metadata": {
      "needs_background": "light"
     },
     "output_type": "display_data"
    }
   ],
   "source": [
    "get_confusion_matrix(gs, 'Naïve Bayes', X_test, y_test)"
   ]
  },
  {
   "cell_type": "markdown",
   "id": "c5d236ae",
   "metadata": {},
   "source": [
    "## Build Second Model-- Random Forest"
   ]
  },
  {
   "cell_type": "markdown",
   "id": "0ea21b04",
   "metadata": {},
   "source": [
    "Here, we can reuse `X`, `y`, `X_train`, and `y_train`, no need to recreate those variables, because they haven't been modified."
   ]
  },
  {
   "cell_type": "markdown",
   "id": "46e7f771",
   "metadata": {},
   "source": [
    "- **Create CountVectorizer instance**"
   ]
  },
  {
   "cell_type": "code",
   "execution_count": 123,
   "id": "93e0e863",
   "metadata": {
    "ExecuteTime": {
     "end_time": "2021-11-07T20:51:37.977620Z",
     "start_time": "2021-11-07T20:51:37.969618Z"
    }
   },
   "outputs": [],
   "source": [
    "cvec = CountVectorizer(stop_words='english')"
   ]
  },
  {
   "cell_type": "markdown",
   "id": "c26872c5",
   "metadata": {},
   "source": [
    "- **Fit and transfrom** `X_train`, **and transform** `X_test` **for the vectorizer**"
   ]
  },
  {
   "cell_type": "code",
   "execution_count": 124,
   "id": "854175a7",
   "metadata": {
    "ExecuteTime": {
     "end_time": "2021-11-07T20:51:41.977732Z",
     "start_time": "2021-11-07T20:51:41.457126Z"
    }
   },
   "outputs": [],
   "source": [
    "Xcvec_train = cvec.fit_transform(X_train)\n",
    "Xcvec_test = cvec.transform(X_test)"
   ]
  },
  {
   "cell_type": "markdown",
   "id": "8be247da",
   "metadata": {},
   "source": [
    "- **Create Random Tree Classifier model**"
   ]
  },
  {
   "cell_type": "code",
   "execution_count": 125,
   "id": "f769e42a",
   "metadata": {
    "ExecuteTime": {
     "end_time": "2021-11-07T20:51:44.071258Z",
     "start_time": "2021-11-07T20:51:44.064259Z"
    }
   },
   "outputs": [],
   "source": [
    "rfc = RandomForestClassifier()"
   ]
  },
  {
   "cell_type": "markdown",
   "id": "6285de13",
   "metadata": {},
   "source": [
    "- **Create tuning parameters for Random Tree classifier**"
   ]
  },
  {
   "cell_type": "code",
   "execution_count": 126,
   "id": "3e8ab18b",
   "metadata": {
    "ExecuteTime": {
     "end_time": "2021-11-07T20:51:46.071131Z",
     "start_time": "2021-11-07T20:51:46.065133Z"
    }
   },
   "outputs": [],
   "source": [
    "params = {\n",
    "    'n_estimators': [750, 1000],\n",
    "    'max_depth': [17, 19],\n",
    "    'min_samples_split': [4, 5],\n",
    "    'min_samples_leaf': [2, 3],\n",
    "    'max_features': ['auto']\n",
    "}"
   ]
  },
  {
   "cell_type": "markdown",
   "id": "f4e06d69",
   "metadata": {},
   "source": [
    "- **Create GridSearch instance**"
   ]
  },
  {
   "cell_type": "code",
   "execution_count": 127,
   "id": "12c13993",
   "metadata": {
    "ExecuteTime": {
     "end_time": "2021-11-07T20:51:49.353167Z",
     "start_time": "2021-11-07T20:51:49.346169Z"
    }
   },
   "outputs": [],
   "source": [
    "gs = GridSearchCV(rfc, params, cv = 5)"
   ]
  },
  {
   "cell_type": "markdown",
   "id": "6f0851b0",
   "metadata": {},
   "source": [
    "- **Fit the GridSearch instance**"
   ]
  },
  {
   "cell_type": "code",
   "execution_count": 128,
   "id": "23f9be82",
   "metadata": {
    "ExecuteTime": {
     "end_time": "2021-11-07T21:13:26.165454Z",
     "start_time": "2021-11-07T20:51:54.113538Z"
    }
   },
   "outputs": [
    {
     "data": {
      "text/plain": [
       "GridSearchCV(cv=5, estimator=RandomForestClassifier(),\n",
       "             param_grid={'max_depth': [17, 19], 'max_features': ['auto'],\n",
       "                         'min_samples_leaf': [2, 3],\n",
       "                         'min_samples_split': [4, 5],\n",
       "                         'n_estimators': [750, 1000]})"
      ]
     },
     "execution_count": 128,
     "metadata": {},
     "output_type": "execute_result"
    }
   ],
   "source": [
    "gs.fit(Xcvec_train, y_train)"
   ]
  },
  {
   "cell_type": "markdown",
   "id": "de06239d",
   "metadata": {},
   "source": [
    "- **Score the Random Tree Model**"
   ]
  },
  {
   "cell_type": "code",
   "execution_count": 129,
   "id": "e8546e9c",
   "metadata": {
    "ExecuteTime": {
     "end_time": "2021-11-07T21:18:09.103051Z",
     "start_time": "2021-11-07T21:18:07.436272Z"
    },
    "scrolled": true
   },
   "outputs": [
    {
     "name": "stdout",
     "output_type": "stream",
     "text": [
      "The training score is: 0.8523052621186692\n",
      "The test score is: 0.845691382765531\n"
     ]
    }
   ],
   "source": [
    "print('The training score is:', gs.score(Xcvec_train, y_train))\n",
    "print('The test score is:', gs.score(Xcvec_test, y_test))"
   ]
  },
  {
   "cell_type": "markdown",
   "id": "56281a98",
   "metadata": {},
   "source": [
    "- **Additional Metrics**"
   ]
  },
  {
   "cell_type": "code",
   "execution_count": 132,
   "id": "a696c9d8",
   "metadata": {
    "ExecuteTime": {
     "end_time": "2021-11-07T21:24:02.243412Z",
     "start_time": "2021-11-07T21:24:00.939236Z"
    },
    "scrolled": false
   },
   "outputs": [
    {
     "name": "stdout",
     "output_type": "stream",
     "text": [
      "\u001b[1mTrue Negatives:\u001b[0m\n",
      "The Random Forest model has 1862 true negatives.\n",
      "\n",
      "\u001b[1mFalse Positives:\u001b[0m\n",
      "The Random Forest model has 643 false positives.\n",
      "\n",
      "\u001b[1mFalse Negatives:\u001b[0m\n",
      "The Random Forest model has 127 false negatives.\n",
      "\n",
      "\u001b[1mTrue Positives:\u001b[0m\n",
      "The Random Forest model has 2358 true positives.\n",
      "\n",
      "\u001b[1mSpecificity:\u001b[0m\n",
      "Its specificity is 0.743313373253493\n",
      "\n",
      "\u001b[1mSensitivity:\u001b[0m\n",
      "Its sensitivity is 0.9488933601609658\n"
     ]
    },
    {
     "data": {
      "image/png": "[encoded data removed]",
      "text/plain": [
       "<Figure size 432x288 with 2 Axes>"
      ]
     },
     "metadata": {
      "needs_background": "light"
     },
     "output_type": "display_data"
    }
   ],
   "source": [
    "get_confusion_matrix(gs, 'Random Forest', Xcvec_test, y_test)"
   ]
  },
  {
   "cell_type": "markdown",
   "id": "62bc1994",
   "metadata": {},
   "source": [
    "## Build Third Model-- SVM"
   ]
  },
  {
   "cell_type": "markdown",
   "id": "c2abf18d",
   "metadata": {},
   "source": [
    "Here, we can reuse `cvec`, `Xcvec_train`, `Xcvec_test`, `y_train`, and `y_test`"
   ]
  },
  {
   "cell_type": "markdown",
   "id": "3e738d2f",
   "metadata": {},
   "source": [
    "- **Create svm instance**"
   ]
  },
  {
   "cell_type": "code",
   "execution_count": 133,
   "id": "3872bba4",
   "metadata": {
    "ExecuteTime": {
     "end_time": "2021-11-07T21:24:49.602676Z",
     "start_time": "2021-11-07T21:24:49.595678Z"
    }
   },
   "outputs": [],
   "source": [
    "svc = SVC()"
   ]
  },
  {
   "cell_type": "markdown",
   "id": "3ca63e7b",
   "metadata": {},
   "source": [
    "- **Use** `GridSearchCV` **to find best parameters**"
   ]
  },
  {
   "cell_type": "code",
   "execution_count": 134,
   "id": "3f2d3159",
   "metadata": {
    "ExecuteTime": {
     "end_time": "2021-11-07T21:24:51.231966Z",
     "start_time": "2021-11-07T21:24:51.211283Z"
    }
   },
   "outputs": [],
   "source": [
    "# SVC paramenters\n",
    "params_grid = {\n",
    "    'C': [0.5, 1.0, 1.5, 2.0],\n",
    "    'kernel': ['linear', 'poly', 'rbf'],\n",
    "    'degree': [1, 2, 3],\n",
    "    'gamma': ['scale', 'auto']\n",
    "}"
   ]
  },
  {
   "cell_type": "markdown",
   "id": "1ec08b15",
   "metadata": {},
   "source": [
    "- **Create GridSearch instance**"
   ]
  },
  {
   "cell_type": "code",
   "execution_count": 135,
   "id": "1a56d0bf",
   "metadata": {
    "ExecuteTime": {
     "end_time": "2021-11-07T21:24:55.650855Z",
     "start_time": "2021-11-07T21:24:55.645858Z"
    }
   },
   "outputs": [],
   "source": [
    "# Create GridSearchCV object\n",
    "gs = GridSearchCV(svc, params_grid)"
   ]
  },
  {
   "cell_type": "markdown",
   "id": "75062a99",
   "metadata": {},
   "source": [
    "- **Fit GridSearch instance**"
   ]
  },
  {
   "cell_type": "code",
   "execution_count": 136,
   "id": "0386ca07",
   "metadata": {
    "ExecuteTime": {
     "end_time": "2021-11-07T22:08:17.851891Z",
     "start_time": "2021-11-07T21:24:59.068614Z"
    }
   },
   "outputs": [
    {
     "data": {
      "text/plain": [
       "GridSearchCV(estimator=SVC(),\n",
       "             param_grid={'C': [0.5, 1.0, 1.5, 2.0], 'degree': [1, 2, 3],\n",
       "                         'gamma': ['scale', 'auto'],\n",
       "                         'kernel': ['linear', 'poly', 'rbf']})"
      ]
     },
     "execution_count": 136,
     "metadata": {},
     "output_type": "execute_result"
    }
   ],
   "source": [
    "# Fit GridSearch object to training data\n",
    "gs.fit(Xcvec_train, y_train)"
   ]
  },
  {
   "cell_type": "markdown",
   "id": "fae9d2ca",
   "metadata": {},
   "source": [
    "- **Evaluate SVC**"
   ]
  },
  {
   "cell_type": "code",
   "execution_count": 137,
   "id": "b9803c80",
   "metadata": {
    "ExecuteTime": {
     "end_time": "2021-11-07T22:30:34.071377Z",
     "start_time": "2021-11-07T22:30:30.271670Z"
    }
   },
   "outputs": [
    {
     "name": "stdout",
     "output_type": "stream",
     "text": [
      "The training score is: 0.9809457991904433\n",
      "The test score is: 0.8965931863727455\n"
     ]
    }
   ],
   "source": [
    "print('The training score is:', gs.score(Xcvec_train, y_train))\n",
    "print('The test score is:', gs.score(Xcvec_test, y_test))"
   ]
  },
  {
   "cell_type": "markdown",
   "id": "da847d87",
   "metadata": {},
   "source": [
    "- **Additional SVC Metrics**"
   ]
  },
  {
   "cell_type": "code",
   "execution_count": 138,
   "id": "5af418d9",
   "metadata": {
    "ExecuteTime": {
     "end_time": "2021-11-07T22:32:20.212893Z",
     "start_time": "2021-11-07T22:32:17.587593Z"
    },
    "scrolled": false
   },
   "outputs": [
    {
     "name": "stdout",
     "output_type": "stream",
     "text": [
      "\u001b[1mTrue Negatives:\u001b[0m\n",
      "The SVC model has 2276 true negatives.\n",
      "\n",
      "\u001b[1mFalse Positives:\u001b[0m\n",
      "The SVC model has 229 false positives.\n",
      "\n",
      "\u001b[1mFalse Negatives:\u001b[0m\n",
      "The SVC model has 287 false negatives.\n",
      "\n",
      "\u001b[1mTrue Positives:\u001b[0m\n",
      "The SVC model has 2198 true positives.\n",
      "\n",
      "\u001b[1mSpecificity:\u001b[0m\n",
      "Its specificity is 0.9085828343313374\n",
      "\n",
      "\u001b[1mSensitivity:\u001b[0m\n",
      "Its sensitivity is 0.8845070422535212\n"
     ]
    },
    {
     "data": {
      "image/png": "[encoded data removed]",
      "text/plain": [
       "<Figure size 432x288 with 2 Axes>"
      ]
     },
     "metadata": {
      "needs_background": "light"
     },
     "output_type": "display_data"
    }
   ],
   "source": [
    "get_confusion_matrix(gs, 'SVC', Xcvec_test, y_test)"
   ]
  },
  {
   "cell_type": "markdown",
   "id": "d05b4c5c",
   "metadata": {},
   "source": [
    "## Build Fourth Model-- AdaBoost"
   ]
  },
  {
   "cell_type": "markdown",
   "id": "66fc2578",
   "metadata": {},
   "source": [
    "- **Create AdaBoost instance**"
   ]
  },
  {
   "cell_type": "code",
   "execution_count": 139,
   "id": "fa05758a",
   "metadata": {
    "ExecuteTime": {
     "end_time": "2021-11-07T22:34:38.196352Z",
     "start_time": "2021-11-07T22:34:38.184353Z"
    }
   },
   "outputs": [],
   "source": [
    "# Instantiate AdaBoost Classifier\n",
    "ada = AdaBoostClassifier()"
   ]
  },
  {
   "cell_type": "markdown",
   "id": "82d3a2ea",
   "metadata": {},
   "source": [
    "- **Establish a list of values for n_estimators parameter**"
   ]
  },
  {
   "cell_type": "code",
   "execution_count": 140,
   "id": "a3bb1d26",
   "metadata": {
    "ExecuteTime": {
     "end_time": "2021-11-07T22:34:39.946578Z",
     "start_time": "2021-11-07T22:34:39.943579Z"
    }
   },
   "outputs": [],
   "source": [
    "# Set AdaBoost Parameters\n",
    "ada_params = {\n",
    "    'n_estimators': [50, 100, 150]\n",
    "}"
   ]
  },
  {
   "cell_type": "markdown",
   "id": "2c625d76",
   "metadata": {},
   "source": [
    "- **Instantiate GridSearchCV**"
   ]
  },
  {
   "cell_type": "code",
   "execution_count": 141,
   "id": "92ad5f46",
   "metadata": {
    "ExecuteTime": {
     "end_time": "2021-11-07T22:34:41.524805Z",
     "start_time": "2021-11-07T22:34:41.512807Z"
    }
   },
   "outputs": [],
   "source": [
    "gs_ada = GridSearchCV(ada, ada_params)"
   ]
  },
  {
   "cell_type": "markdown",
   "id": "7f44d6e9",
   "metadata": {
    "ExecuteTime": {
     "end_time": "2021-11-07T22:46:54.492682Z",
     "start_time": "2021-11-07T22:46:54.485684Z"
    }
   },
   "source": [
    "- **Fit GridSearchCV Instance**"
   ]
  },
  {
   "cell_type": "code",
   "execution_count": 142,
   "id": "b673ea22",
   "metadata": {
    "ExecuteTime": {
     "end_time": "2021-11-07T22:38:38.852780Z",
     "start_time": "2021-11-07T22:34:43.864805Z"
    }
   },
   "outputs": [
    {
     "data": {
      "text/plain": [
       "GridSearchCV(estimator=AdaBoostClassifier(),\n",
       "             param_grid={'n_estimators': [50, 100, 150]})"
      ]
     },
     "execution_count": 142,
     "metadata": {},
     "output_type": "execute_result"
    }
   ],
   "source": [
    "# Fit gs_ada\n",
    "gs_ada.fit(Xcvec_train, y_train)"
   ]
  },
  {
   "cell_type": "markdown",
   "id": "d53db457",
   "metadata": {},
   "source": [
    "- **Evaluate AdaBoost Model**"
   ]
  },
  {
   "cell_type": "code",
   "execution_count": 325,
   "id": "726a0ce4",
   "metadata": {},
   "outputs": [
    {
     "name": "stdout",
     "output_type": "stream",
     "text": [
      "The training score is: 0.8789166749036276\n",
      "The test score is: 0.8633353401565322\n"
     ]
    }
   ],
   "source": [
    "# Evaluate ADA\n",
    "print('The training score is:', gs_ada.score(Xcvec_train, y_train))\n",
    "print('The test score is:', gs_ada.score(Xcvec_test, y_test))"
   ]
  },
  {
   "cell_type": "markdown",
   "id": "9f795f31",
   "metadata": {},
   "source": [
    "- **Additional Metrics**"
   ]
  },
  {
   "cell_type": "code",
   "execution_count": 144,
   "id": "f0668e5a",
   "metadata": {
    "ExecuteTime": {
     "end_time": "2021-11-07T22:40:27.712241Z",
     "start_time": "2021-11-07T22:40:27.228721Z"
    }
   },
   "outputs": [
    {
     "name": "stdout",
     "output_type": "stream",
     "text": [
      "\u001b[1mTrue Negatives:\u001b[0m\n",
      "The AdaBoost model has 2392 true negatives.\n",
      "\n",
      "\u001b[1mFalse Positives:\u001b[0m\n",
      "The AdaBoost model has 113 false positives.\n",
      "\n",
      "\u001b[1mFalse Negatives:\u001b[0m\n",
      "The AdaBoost model has 622 false negatives.\n",
      "\n",
      "\u001b[1mTrue Positives:\u001b[0m\n",
      "The AdaBoost model has 1863 true positives.\n",
      "\n",
      "\u001b[1mSpecificity:\u001b[0m\n",
      "Its specificity is 0.9548902195608783\n",
      "\n",
      "\u001b[1mSensitivity:\u001b[0m\n",
      "Its sensitivity is 0.7496981891348089\n"
     ]
    },
    {
     "data": {
      "image/png": "[encoded data removed]",
      "text/plain": [
       "<Figure size 432x288 with 2 Axes>"
      ]
     },
     "metadata": {
      "needs_background": "light"
     },
     "output_type": "display_data"
    }
   ],
   "source": [
    "get_confusion_matrix(gs_ada, 'AdaBoost', Xcvec_test, y_test)"
   ]
  },
  {
   "cell_type": "markdown",
   "id": "267a8900",
   "metadata": {},
   "source": [
    "### Conclusion\n",
    "\n",
    "> - The all models could have performed better if more attention were given to eliminating stop-like words.\n",
    ">\n",
    "> - An increase in the number of observations improved the scores of all models.  Initially, a sample size of 4000 observations were collected.  The scores improved after the sample size was increased to 15,000 observations.\n",
    ">\n",
    "> - Finding the best hyperparameters is dependent on time and compute resources, and can lead to improved model performance."
   ]
  }
 ],
 "metadata": {
  "kernelspec": {
   "display_name": "Python 3",
   "language": "python",
   "name": "python3"
  },
  "language_info": {
   "codemirror_mode": {
    "name": "ipython",
    "version": 3
   },
   "file_extension": ".py",
   "mimetype": "text/x-python",
   "name": "python",
   "nbconvert_exporter": "python",
   "pygments_lexer": "ipython3",
   "version": "3.8.8"
  }
 },
 "nbformat": 4,
 "nbformat_minor": 5
}
